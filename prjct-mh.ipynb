{
 "cells": [
  {
   "cell_type": "markdown",
   "id": "b1860305",
   "metadata": {
    "papermill": {
     "duration": 0.008511,
     "end_time": "2023-04-27T13:52:53.400838",
     "exception": false,
     "start_time": "2023-04-27T13:52:53.392327",
     "status": "completed"
    },
    "tags": []
   },
   "source": [
    "# *Library*\n",
    "Import *library* yang dibutuhkan."
   ]
  },
  {
   "cell_type": "code",
   "execution_count": 1,
   "id": "8f54cab2",
   "metadata": {
    "execution": {
     "iopub.execute_input": "2023-04-27T13:52:53.417274Z",
     "iopub.status.busy": "2023-04-27T13:52:53.416872Z",
     "iopub.status.idle": "2023-04-27T13:53:13.032510Z",
     "shell.execute_reply": "2023-04-27T13:53:13.031321Z"
    },
    "papermill": {
     "duration": 19.626786,
     "end_time": "2023-04-27T13:53:13.035335",
     "exception": false,
     "start_time": "2023-04-27T13:52:53.408549",
     "status": "completed"
    },
    "tags": []
   },
   "outputs": [
    {
     "name": "stdout",
     "output_type": "stream",
     "text": [
      "Collecting num2words\r\n",
      "  Downloading num2words-0.5.12-py3-none-any.whl (125 kB)\r\n",
      "\u001b[2K     \u001b[90m━━━━━━━━━━━━━━━━━━━━━━━━━━━━━━━━━━━━━━━\u001b[0m \u001b[32m125.2/125.2 kB\u001b[0m \u001b[31m4.9 MB/s\u001b[0m eta \u001b[36m0:00:00\u001b[0m\r\n",
      "\u001b[?25hRequirement already satisfied: docopt>=0.6.2 in /opt/conda/lib/python3.7/site-packages (from num2words) (0.6.2)\r\n",
      "Installing collected packages: num2words\r\n",
      "Successfully installed num2words-0.5.12\r\n",
      "\u001b[33mWARNING: Running pip as the 'root' user can result in broken permissions and conflicting behaviour with the system package manager. It is recommended to use a virtual environment instead: https://pip.pypa.io/warnings/venv\u001b[0m\u001b[33m\r\n",
      "\u001b[0mCollecting Sastrawi\r\n",
      "  Downloading Sastrawi-1.0.1-py2.py3-none-any.whl (209 kB)\r\n",
      "\u001b[2K     \u001b[90m━━━━━━━━━━━━━━━━━━━━━━━━━━━━━━━━━━━━━━━\u001b[0m \u001b[32m209.7/209.7 kB\u001b[0m \u001b[31m9.7 MB/s\u001b[0m eta \u001b[36m0:00:00\u001b[0m\r\n",
      "\u001b[?25hInstalling collected packages: Sastrawi\r\n",
      "Successfully installed Sastrawi-1.0.1\r\n",
      "\u001b[33mWARNING: Running pip as the 'root' user can result in broken permissions and conflicting behaviour with the system package manager. It is recommended to use a virtual environment instead: https://pip.pypa.io/warnings/venv\u001b[0m\u001b[33m\r\n",
      "\u001b[0m"
     ]
    }
   ],
   "source": [
    "!pip3 install num2words # Install library untuk mengubah angka menjadi kata.\n",
    "!pip install Sastrawi # Karena wordnet tidak bisa digunakan maka di sini pakai Sastrawi."
   ]
  },
  {
   "cell_type": "code",
   "execution_count": 2,
   "id": "bf662961",
   "metadata": {
    "execution": {
     "iopub.execute_input": "2023-04-27T13:53:13.053497Z",
     "iopub.status.busy": "2023-04-27T13:53:13.053162Z",
     "iopub.status.idle": "2023-04-27T13:53:21.502603Z",
     "shell.execute_reply": "2023-04-27T13:53:21.501498Z"
    },
    "papermill": {
     "duration": 8.461513,
     "end_time": "2023-04-27T13:53:21.505326",
     "exception": false,
     "start_time": "2023-04-27T13:53:13.043813",
     "status": "completed"
    },
    "tags": []
   },
   "outputs": [],
   "source": [
    "# Library untuk membaca file .csv.\n",
    "import pandas as pd\n",
    "# Library untuk visualisasi.\n",
    "import matplotlib.pyplot as plt\n",
    "import seaborn as sns\n",
    "# Library untuk memproses teks.\n",
    "import nltk\n",
    "from nltk.stem import PorterStemmer\n",
    "from nltk.stem import WordNetLemmatizer\n",
    "from nltk.corpus import stopwords\n",
    "from nltk.tokenize import word_tokenize\n",
    "import re\n",
    "from tensorflow.keras.preprocessing.text import one_hot\n",
    "from num2words import num2words\n",
    "from Sastrawi.Stemmer.StemmerFactory import StemmerFactory\n",
    "# Library untuk membangun model.\n",
    "from tensorflow.keras.layers import LSTM\n",
    "from tensorflow.keras.layers import Bidirectional\n",
    "from tensorflow.keras.layers import Dense\n",
    "from tensorflow.keras.layers import Embedding\n",
    "from tensorflow.keras.layers import Dropout\n",
    "from tensorflow.keras.preprocessing.sequence import pad_sequences\n",
    "from tensorflow.keras.models import Sequential\n",
    "from tensorflow.keras import regularizers\n",
    "import numpy as np\n",
    "# Library untuk memisahkan dataset.\n",
    "from sklearn.model_selection import train_test_split\n",
    "from sklearn.utils import shuffle\n",
    "# Library untuk evaluasi model.\n",
    "from sklearn.metrics import confusion_matrix\n",
    "from sklearn.metrics import classification_report"
   ]
  },
  {
   "cell_type": "code",
   "execution_count": 3,
   "id": "ac6465f5",
   "metadata": {
    "execution": {
     "iopub.execute_input": "2023-04-27T13:53:21.524248Z",
     "iopub.status.busy": "2023-04-27T13:53:21.522346Z",
     "iopub.status.idle": "2023-04-27T13:53:21.661347Z",
     "shell.execute_reply": "2023-04-27T13:53:21.659716Z"
    },
    "papermill": {
     "duration": 0.150197,
     "end_time": "2023-04-27T13:53:21.663550",
     "exception": false,
     "start_time": "2023-04-27T13:53:21.513353",
     "status": "completed"
    },
    "tags": []
   },
   "outputs": [
    {
     "name": "stdout",
     "output_type": "stream",
     "text": [
      "[nltk_data] Downloading package punkt to /usr/share/nltk_data...\n",
      "[nltk_data]   Package punkt is already up-to-date!\n",
      "[nltk_data] Downloading package stopwords to /usr/share/nltk_data...\n",
      "[nltk_data]   Package stopwords is already up-to-date!\n"
     ]
    },
    {
     "data": {
      "text/plain": [
       "True"
      ]
     },
     "execution_count": 3,
     "metadata": {},
     "output_type": "execute_result"
    }
   ],
   "source": [
    "nltk.download('punkt') # Untuk tokenizer kata.\n",
    "nltk.download('stopwords')# Untuk menghapus stopwords.\n",
    "# nltk.download('wordnet') # Ada masalah ketika menggunakan wordnet."
   ]
  },
  {
   "cell_type": "markdown",
   "id": "d791b119",
   "metadata": {
    "papermill": {
     "duration": 0.008539,
     "end_time": "2023-04-27T13:53:21.680050",
     "exception": false,
     "start_time": "2023-04-27T13:53:21.671511",
     "status": "completed"
    },
    "tags": []
   },
   "source": [
    "# Membaca Dataset\n",
    "Melakukan visualisasi dataset yang dimiliki."
   ]
  },
  {
   "cell_type": "code",
   "execution_count": 4,
   "id": "7a705132",
   "metadata": {
    "execution": {
     "iopub.execute_input": "2023-04-27T13:53:21.697026Z",
     "iopub.status.busy": "2023-04-27T13:53:21.696708Z",
     "iopub.status.idle": "2023-04-27T13:53:21.910243Z",
     "shell.execute_reply": "2023-04-27T13:53:21.909257Z"
    },
    "papermill": {
     "duration": 0.224925,
     "end_time": "2023-04-27T13:53:21.912805",
     "exception": false,
     "start_time": "2023-04-27T13:53:21.687880",
     "status": "completed"
    },
    "tags": []
   },
   "outputs": [
    {
     "data": {
      "text/html": [
       "<div>\n",
       "<style scoped>\n",
       "    .dataframe tbody tr th:only-of-type {\n",
       "        vertical-align: middle;\n",
       "    }\n",
       "\n",
       "    .dataframe tbody tr th {\n",
       "        vertical-align: top;\n",
       "    }\n",
       "\n",
       "    .dataframe thead th {\n",
       "        text-align: right;\n",
       "    }\n",
       "</style>\n",
       "<table border=\"1\" class=\"dataframe\">\n",
       "  <thead>\n",
       "    <tr style=\"text-align: right;\">\n",
       "      <th></th>\n",
       "      <th>text</th>\n",
       "      <th>is_depression</th>\n",
       "      <th>text_id</th>\n",
       "    </tr>\n",
       "  </thead>\n",
       "  <tbody>\n",
       "    <tr>\n",
       "      <th>0</th>\n",
       "      <td>we understand that most people who reply immed...</td>\n",
       "      <td>1</td>\n",
       "      <td>Kami memahami bahwa kebanyakan orang yang sege...</td>\n",
       "    </tr>\n",
       "    <tr>\n",
       "      <th>1</th>\n",
       "      <td>welcome to r depression s check in post a plac...</td>\n",
       "      <td>1</td>\n",
       "      <td>Selamat datang di post Depresi S Posting di te...</td>\n",
       "    </tr>\n",
       "    <tr>\n",
       "      <th>2</th>\n",
       "      <td>anyone else instead of sleeping more when depr...</td>\n",
       "      <td>1</td>\n",
       "      <td>orang lain daripada lebih banyak tidur ketika ...</td>\n",
       "    </tr>\n",
       "    <tr>\n",
       "      <th>3</th>\n",
       "      <td>i ve kind of stuffed around a lot in my life d...</td>\n",
       "      <td>1</td>\n",
       "      <td>Saya telah banyak mengisi banyak dalam hidup s...</td>\n",
       "    </tr>\n",
       "    <tr>\n",
       "      <th>4</th>\n",
       "      <td>sleep is my greatest and most comforting escap...</td>\n",
       "      <td>1</td>\n",
       "      <td>Tidur adalah pelarian terbesar dan paling meng...</td>\n",
       "    </tr>\n",
       "  </tbody>\n",
       "</table>\n",
       "</div>"
      ],
      "text/plain": [
       "                                                text  is_depression  \\\n",
       "0  we understand that most people who reply immed...              1   \n",
       "1  welcome to r depression s check in post a plac...              1   \n",
       "2  anyone else instead of sleeping more when depr...              1   \n",
       "3  i ve kind of stuffed around a lot in my life d...              1   \n",
       "4  sleep is my greatest and most comforting escap...              1   \n",
       "\n",
       "                                             text_id  \n",
       "0  Kami memahami bahwa kebanyakan orang yang sege...  \n",
       "1  Selamat datang di post Depresi S Posting di te...  \n",
       "2  orang lain daripada lebih banyak tidur ketika ...  \n",
       "3  Saya telah banyak mengisi banyak dalam hidup s...  \n",
       "4  Tidur adalah pelarian terbesar dan paling meng...  "
      ]
     },
     "execution_count": 4,
     "metadata": {},
     "output_type": "execute_result"
    }
   ],
   "source": [
    "df = pd.read_csv(\"/kaggle/input/data-mh-id/data_mh.csv\", delimiter=\",\") # Sesuaikan `delimiter` berdasarkan bahasa yang digunakan dalma .csv.\n",
    "df.head()"
   ]
  },
  {
   "cell_type": "markdown",
   "id": "f5041150",
   "metadata": {
    "papermill": {
     "duration": 0.007971,
     "end_time": "2023-04-27T13:53:21.929282",
     "exception": false,
     "start_time": "2023-04-27T13:53:21.921311",
     "status": "completed"
    },
    "tags": []
   },
   "source": [
    "Visualisasi label, usahakan label yang dimiliki seimbang."
   ]
  },
  {
   "cell_type": "code",
   "execution_count": 5,
   "id": "83d63c70",
   "metadata": {
    "execution": {
     "iopub.execute_input": "2023-04-27T13:53:21.946608Z",
     "iopub.status.busy": "2023-04-27T13:53:21.946302Z",
     "iopub.status.idle": "2023-04-27T13:53:22.152827Z",
     "shell.execute_reply": "2023-04-27T13:53:22.152126Z"
    },
    "papermill": {
     "duration": 0.217425,
     "end_time": "2023-04-27T13:53:22.154776",
     "exception": false,
     "start_time": "2023-04-27T13:53:21.937351",
     "status": "completed"
    },
    "tags": []
   },
   "outputs": [
    {
     "data": {
      "text/plain": [
       "<AxesSubplot:>"
      ]
     },
     "execution_count": 5,
     "metadata": {},
     "output_type": "execute_result"
    },
    {
     "data": {
      "image/png": "[encoded data removed]",
      "text/plain": [
       "<Figure size 500x300 with 1 Axes>"
      ]
     },
     "metadata": {},
     "output_type": "display_data"
    }
   ],
   "source": [
    "df[\"is_depression\"].value_counts().plot(kind=\"bar\",figsize=(5,3))"
   ]
  },
  {
   "cell_type": "code",
   "execution_count": 6,
   "id": "3dd62a5a",
   "metadata": {
    "execution": {
     "iopub.execute_input": "2023-04-27T13:53:22.172969Z",
     "iopub.status.busy": "2023-04-27T13:53:22.172681Z",
     "iopub.status.idle": "2023-04-27T13:53:22.180737Z",
     "shell.execute_reply": "2023-04-27T13:53:22.179690Z"
    },
    "papermill": {
     "duration": 0.019501,
     "end_time": "2023-04-27T13:53:22.182876",
     "exception": false,
     "start_time": "2023-04-27T13:53:22.163375",
     "status": "completed"
    },
    "tags": []
   },
   "outputs": [
    {
     "name": "stdout",
     "output_type": "stream",
     "text": [
      "text             0\n",
      "is_depression    0\n",
      "text_id          0\n",
      "dtype: int64\n"
     ]
    }
   ],
   "source": [
    "# Cek apakah terdapat null value atau tidak.\n",
    "print(df.isnull().sum())"
   ]
  },
  {
   "cell_type": "code",
   "execution_count": 7,
   "id": "b0ea6539",
   "metadata": {
    "execution": {
     "iopub.execute_input": "2023-04-27T13:53:22.200693Z",
     "iopub.status.busy": "2023-04-27T13:53:22.200399Z",
     "iopub.status.idle": "2023-04-27T13:53:22.216034Z",
     "shell.execute_reply": "2023-04-27T13:53:22.214725Z"
    },
    "papermill": {
     "duration": 0.027262,
     "end_time": "2023-04-27T13:53:22.218384",
     "exception": false,
     "start_time": "2023-04-27T13:53:22.191122",
     "status": "completed"
    },
    "tags": []
   },
   "outputs": [
    {
     "name": "stdout",
     "output_type": "stream",
     "text": [
      "<class 'pandas.core.frame.DataFrame'>\n",
      "RangeIndex: 7731 entries, 0 to 7730\n",
      "Data columns (total 3 columns):\n",
      " #   Column         Non-Null Count  Dtype \n",
      "---  ------         --------------  ----- \n",
      " 0   text           7731 non-null   object\n",
      " 1   is_depression  7731 non-null   int64 \n",
      " 2   text_id        7731 non-null   object\n",
      "dtypes: int64(1), object(2)\n",
      "memory usage: 181.3+ KB\n",
      "None\n"
     ]
    }
   ],
   "source": [
    "# Cek tipe data kolom.\n",
    "print(df.info())"
   ]
  },
  {
   "cell_type": "markdown",
   "id": "920fc048",
   "metadata": {
    "papermill": {
     "duration": 0.008623,
     "end_time": "2023-04-27T13:53:22.235734",
     "exception": false,
     "start_time": "2023-04-27T13:53:22.227111",
     "status": "completed"
    },
    "tags": []
   },
   "source": [
    "# Memproses Data Teks"
   ]
  },
  {
   "cell_type": "code",
   "execution_count": 8,
   "id": "1b955dee",
   "metadata": {
    "execution": {
     "iopub.execute_input": "2023-04-27T13:53:22.254237Z",
     "iopub.status.busy": "2023-04-27T13:53:22.253958Z",
     "iopub.status.idle": "2023-04-27T13:53:22.275376Z",
     "shell.execute_reply": "2023-04-27T13:53:22.274491Z"
    },
    "papermill": {
     "duration": 0.032738,
     "end_time": "2023-04-27T13:53:22.277468",
     "exception": false,
     "start_time": "2023-04-27T13:53:22.244730",
     "status": "completed"
    },
    "tags": []
   },
   "outputs": [],
   "source": [
    "factory = StemmerFactory()\n",
    "stemmer = factory.create_stemmer()\n",
    "stop_words = set(stopwords.words('indonesian'))\n",
    "\n",
    "# def translate_text(text):\n",
    "#     url = \"https://translate.googleapis.com/translate_a/single?client=gtx&sl=en&tl=id&dt=t&q={}\".format(text)\n",
    "#     response = requests.get(url)\n",
    "#     result = response.json()[0][0][0]\n",
    "#     return result\n",
    "\n",
    "def preprocess_text(text):\n",
    "#     text = translate_text(text) # Kemudian di sini kita coba translate\n",
    "    text = word_tokenize(text.lower()) # Tokenize text_id ke dalam token/kata\n",
    "    text = [t for t in text if t not in stop_words] # Hapus stop_words\n",
    "    text = [stemmer.stem(t) for t in text] # Menjadikan kata dasar\n",
    "    text = [t if not t.isdigit() else num2words(int(t)) for t in text] # Mengganti angka ke teks\n",
    "#     text = emoji.demojize(text) # ubah emoji ke dalam bentuk teks\n",
    "#     text = re.sub(r':[a-z_]+:', lambda m: ' '.join(m.group(0).replace(':', '').split('_')), text) # Regex misal emoji: 🎉 bakal diubah jadi \"party popper\".\n",
    "    text = ' '.join(text) # Gabungkan ke dalam teks kembali\n",
    "    return text"
   ]
  },
  {
   "cell_type": "code",
   "execution_count": 9,
   "id": "325ba9f5",
   "metadata": {
    "execution": {
     "iopub.execute_input": "2023-04-27T13:53:22.295425Z",
     "iopub.status.busy": "2023-04-27T13:53:22.295158Z",
     "iopub.status.idle": "2023-04-27T14:14:35.078099Z",
     "shell.execute_reply": "2023-04-27T14:14:35.076975Z"
    },
    "papermill": {
     "duration": 1272.795322,
     "end_time": "2023-04-27T14:14:35.081180",
     "exception": false,
     "start_time": "2023-04-27T13:53:22.285858",
     "status": "completed"
    },
    "tags": []
   },
   "outputs": [],
   "source": [
    "df = df[pd.notnull(df['text_id'])] # hapus semua baris dengan nilai NaN di kolom `text`\n",
    "df = df[df['text_id'].apply(lambda x: isinstance(x, str))] # hapus semua baris di mana `text` bukan string\n",
    "df['nlp_text'] = df['text_id'].apply(lambda x: preprocess_text(x))"
   ]
  },
  {
   "cell_type": "code",
   "execution_count": 10,
   "id": "40c095ce",
   "metadata": {
    "execution": {
     "iopub.execute_input": "2023-04-27T14:14:35.100376Z",
     "iopub.status.busy": "2023-04-27T14:14:35.100055Z",
     "iopub.status.idle": "2023-04-27T14:14:35.116417Z",
     "shell.execute_reply": "2023-04-27T14:14:35.115520Z"
    },
    "papermill": {
     "duration": 0.028275,
     "end_time": "2023-04-27T14:14:35.118603",
     "exception": false,
     "start_time": "2023-04-27T14:14:35.090328",
     "status": "completed"
    },
    "tags": []
   },
   "outputs": [
    {
     "data": {
      "text/html": [
       "<div>\n",
       "<style scoped>\n",
       "    .dataframe tbody tr th:only-of-type {\n",
       "        vertical-align: middle;\n",
       "    }\n",
       "\n",
       "    .dataframe tbody tr th {\n",
       "        vertical-align: top;\n",
       "    }\n",
       "\n",
       "    .dataframe thead th {\n",
       "        text-align: right;\n",
       "    }\n",
       "</style>\n",
       "<table border=\"1\" class=\"dataframe\">\n",
       "  <thead>\n",
       "    <tr style=\"text-align: right;\">\n",
       "      <th></th>\n",
       "      <th>text</th>\n",
       "      <th>is_depression</th>\n",
       "      <th>text_id</th>\n",
       "      <th>nlp_text</th>\n",
       "    </tr>\n",
       "  </thead>\n",
       "  <tbody>\n",
       "    <tr>\n",
       "      <th>0</th>\n",
       "      <td>we understand that most people who reply immed...</td>\n",
       "      <td>1</td>\n",
       "      <td>Kami memahami bahwa kebanyakan orang yang sege...</td>\n",
       "      <td>paham banyak orang balas op undang bicara prib...</td>\n",
       "    </tr>\n",
       "    <tr>\n",
       "      <th>1</th>\n",
       "      <td>welcome to r depression s check in post a plac...</td>\n",
       "      <td>1</td>\n",
       "      <td>Selamat datang di post Depresi S Posting di te...</td>\n",
       "      <td>selamat post depresi s posting ambil bagi mili...</td>\n",
       "    </tr>\n",
       "    <tr>\n",
       "      <th>2</th>\n",
       "      <td>anyone else instead of sleeping more when depr...</td>\n",
       "      <td>1</td>\n",
       "      <td>orang lain daripada lebih banyak tidur ketika ...</td>\n",
       "      <td>orang tidur depresi begadang malam hindar cepa...</td>\n",
       "    </tr>\n",
       "    <tr>\n",
       "      <th>3</th>\n",
       "      <td>i ve kind of stuffed around a lot in my life d...</td>\n",
       "      <td>1</td>\n",
       "      <td>Saya telah banyak mengisi banyak dalam hidup s...</td>\n",
       "      <td>isi hidup tunda orang hindar orang dewasa tang...</td>\n",
       "    </tr>\n",
       "    <tr>\n",
       "      <th>4</th>\n",
       "      <td>sleep is my greatest and most comforting escap...</td>\n",
       "      <td>1</td>\n",
       "      <td>Tidur adalah pelarian terbesar dan paling meng...</td>\n",
       "      <td>tidur lari besar hibur kali bangun  emosi rasa...</td>\n",
       "    </tr>\n",
       "  </tbody>\n",
       "</table>\n",
       "</div>"
      ],
      "text/plain": [
       "                                                text  is_depression  \\\n",
       "0  we understand that most people who reply immed...              1   \n",
       "1  welcome to r depression s check in post a plac...              1   \n",
       "2  anyone else instead of sleeping more when depr...              1   \n",
       "3  i ve kind of stuffed around a lot in my life d...              1   \n",
       "4  sleep is my greatest and most comforting escap...              1   \n",
       "\n",
       "                                             text_id  \\\n",
       "0  Kami memahami bahwa kebanyakan orang yang sege...   \n",
       "1  Selamat datang di post Depresi S Posting di te...   \n",
       "2  orang lain daripada lebih banyak tidur ketika ...   \n",
       "3  Saya telah banyak mengisi banyak dalam hidup s...   \n",
       "4  Tidur adalah pelarian terbesar dan paling meng...   \n",
       "\n",
       "                                            nlp_text  \n",
       "0  paham banyak orang balas op undang bicara prib...  \n",
       "1  selamat post depresi s posting ambil bagi mili...  \n",
       "2  orang tidur depresi begadang malam hindar cepa...  \n",
       "3  isi hidup tunda orang hindar orang dewasa tang...  \n",
       "4  tidur lari besar hibur kali bangun  emosi rasa...  "
      ]
     },
     "execution_count": 10,
     "metadata": {},
     "output_type": "execute_result"
    }
   ],
   "source": [
    "df.head()"
   ]
  },
  {
   "cell_type": "markdown",
   "id": "4c5bd018",
   "metadata": {
    "papermill": {
     "duration": 0.008554,
     "end_time": "2023-04-27T14:14:35.135901",
     "exception": false,
     "start_time": "2023-04-27T14:14:35.127347",
     "status": "completed"
    },
    "tags": []
   },
   "source": [
    "# Hitung *Unique Words*\n",
    "Menghitung unique words untuk menghitung ukuran *vocabulary*."
   ]
  },
  {
   "cell_type": "code",
   "execution_count": 11,
   "id": "e52f7a3b",
   "metadata": {
    "execution": {
     "iopub.execute_input": "2023-04-27T14:14:35.154770Z",
     "iopub.status.busy": "2023-04-27T14:14:35.154457Z",
     "iopub.status.idle": "2023-04-27T14:14:35.189084Z",
     "shell.execute_reply": "2023-04-27T14:14:35.187987Z"
    },
    "papermill": {
     "duration": 0.046259,
     "end_time": "2023-04-27T14:14:35.191247",
     "exception": false,
     "start_time": "2023-04-27T14:14:35.144988",
     "status": "completed"
    },
    "tags": []
   },
   "outputs": [
    {
     "name": "stdout",
     "output_type": "stream",
     "text": [
      "14233\n"
     ]
    }
   ],
   "source": [
    "words = set(word for sentence in df[\"nlp_text\"] for word in sentence.split())\n",
    "vocab_size = len(words)\n",
    "print(vocab_size)"
   ]
  },
  {
   "cell_type": "markdown",
   "id": "ae21e0ad",
   "metadata": {
    "papermill": {
     "duration": 0.008666,
     "end_time": "2023-04-27T14:14:35.208794",
     "exception": false,
     "start_time": "2023-04-27T14:14:35.200128",
     "status": "completed"
    },
    "tags": []
   },
   "source": [
    "# One Hot Representation dari Setiap Kalimat"
   ]
  },
  {
   "cell_type": "code",
   "execution_count": 12,
   "id": "3c13c6e8",
   "metadata": {
    "execution": {
     "iopub.execute_input": "2023-04-27T14:14:35.227439Z",
     "iopub.status.busy": "2023-04-27T14:14:35.227166Z",
     "iopub.status.idle": "2023-04-27T14:14:35.376108Z",
     "shell.execute_reply": "2023-04-27T14:14:35.375070Z"
    },
    "papermill": {
     "duration": 0.161299,
     "end_time": "2023-04-27T14:14:35.378708",
     "exception": false,
     "start_time": "2023-04-27T14:14:35.217409",
     "status": "completed"
    },
    "tags": []
   },
   "outputs": [],
   "source": [
    "one_hot_representation = [one_hot(words,vocab_size) for words in df[\"nlp_text\"]]\n",
    "# one_hot_representation"
   ]
  },
  {
   "cell_type": "markdown",
   "id": "d5860dc2",
   "metadata": {
    "papermill": {
     "duration": 0.008568,
     "end_time": "2023-04-27T14:14:35.396310",
     "exception": false,
     "start_time": "2023-04-27T14:14:35.387742",
     "status": "completed"
    },
    "tags": []
   },
   "source": [
    "Cari panjang maksimum untuk dimasukan ke dalam word embeddings."
   ]
  },
  {
   "cell_type": "code",
   "execution_count": 13,
   "id": "5c8abfd5",
   "metadata": {
    "execution": {
     "iopub.execute_input": "2023-04-27T14:14:35.417272Z",
     "iopub.status.busy": "2023-04-27T14:14:35.416369Z",
     "iopub.status.idle": "2023-04-27T14:14:35.426055Z",
     "shell.execute_reply": "2023-04-27T14:14:35.425017Z"
    },
    "papermill": {
     "duration": 0.023156,
     "end_time": "2023-04-27T14:14:35.428223",
     "exception": false,
     "start_time": "2023-04-27T14:14:35.405067",
     "status": "completed"
    },
    "tags": []
   },
   "outputs": [
    {
     "data": {
      "text/plain": [
       "1300"
      ]
     },
     "execution_count": 13,
     "metadata": {},
     "output_type": "execute_result"
    }
   ],
   "source": [
    "max_len = 0\n",
    "for elem in one_hot_representation:\n",
    "    if len(elem) > max_len:\n",
    "        max_len = len(elem)\n",
    "max_len"
   ]
  },
  {
   "cell_type": "markdown",
   "id": "0188b2c3",
   "metadata": {
    "papermill": {
     "duration": 0.008543,
     "end_time": "2023-04-27T14:14:35.445749",
     "exception": false,
     "start_time": "2023-04-27T14:14:35.437206",
     "status": "completed"
    },
    "tags": []
   },
   "source": [
    "# Converting one hot encodings to word embeddings"
   ]
  },
  {
   "cell_type": "markdown",
   "id": "6ebd7c85",
   "metadata": {
    "papermill": {
     "duration": 0.008502,
     "end_time": "2023-04-27T14:14:35.462958",
     "exception": false,
     "start_time": "2023-04-27T14:14:35.454456",
     "status": "completed"
    },
    "tags": []
   },
   "source": [
    "Ketika panjang sequences kurang dari max_length maka pad_sequences akan menambahkan padding supaya jumlahnya sama dengan max_length. padding = 'post' dibuat untuk menambahkan padding di akhir, jika padding = 'pre' maka padding akan ditambahkan di awal sequences.\n",
    "\n",
    "Kemudian apabila panjang sequences lebih dari max_length maka akan ditruncate. padding = 'post' dibuat untuk truncate di akhir, jika padding = 'pre' maka dibuat untuk truncate di awal."
   ]
  },
  {
   "cell_type": "code",
   "execution_count": 14,
   "id": "e591ad2a",
   "metadata": {
    "execution": {
     "iopub.execute_input": "2023-04-27T14:14:35.482604Z",
     "iopub.status.busy": "2023-04-27T14:14:35.481635Z",
     "iopub.status.idle": "2023-04-27T14:14:35.523861Z",
     "shell.execute_reply": "2023-04-27T14:14:35.522774Z"
    },
    "papermill": {
     "duration": 0.054494,
     "end_time": "2023-04-27T14:14:35.526394",
     "exception": false,
     "start_time": "2023-04-27T14:14:35.471900",
     "status": "completed"
    },
    "tags": []
   },
   "outputs": [],
   "source": [
    "# embedded_docs = pad_sequences(one_hot_representation, padding='pre', maxlen = max_len)\n",
    "embedded_docs = pad_sequences(one_hot_representation, padding = 'post',truncating = 'post', maxlen = max_len)"
   ]
  },
  {
   "cell_type": "code",
   "execution_count": 15,
   "id": "2a50f6a3",
   "metadata": {
    "execution": {
     "iopub.execute_input": "2023-04-27T14:14:35.546010Z",
     "iopub.status.busy": "2023-04-27T14:14:35.545405Z",
     "iopub.status.idle": "2023-04-27T14:14:35.549622Z",
     "shell.execute_reply": "2023-04-27T14:14:35.548642Z"
    },
    "papermill": {
     "duration": 0.016157,
     "end_time": "2023-04-27T14:14:35.551687",
     "exception": false,
     "start_time": "2023-04-27T14:14:35.535530",
     "status": "completed"
    },
    "tags": []
   },
   "outputs": [],
   "source": [
    "### Model 1\n",
    "# embedding_vector_features = max_len * 2\n",
    "# model = Sequential()\n",
    "# model.add(Embedding(14233, embedding_vector_features, input_length=max_len))\n",
    "# model.add((LSTM(100)))\n",
    "# model.add(Dense(1,activation = 'sigmoid'))\n",
    "# model.compile(loss='binary_crossentropy', optimizer = 'adam', metrics = ['accuracy'])\n",
    "# print(model.summary())"
   ]
  },
  {
   "cell_type": "code",
   "execution_count": 16,
   "id": "234771e9",
   "metadata": {
    "execution": {
     "iopub.execute_input": "2023-04-27T14:14:35.570756Z",
     "iopub.status.busy": "2023-04-27T14:14:35.569956Z",
     "iopub.status.idle": "2023-04-27T14:14:38.770041Z",
     "shell.execute_reply": "2023-04-27T14:14:38.765377Z"
    },
    "papermill": {
     "duration": 3.217358,
     "end_time": "2023-04-27T14:14:38.777751",
     "exception": false,
     "start_time": "2023-04-27T14:14:35.560393",
     "status": "completed"
    },
    "tags": []
   },
   "outputs": [
    {
     "name": "stdout",
     "output_type": "stream",
     "text": [
      "Model: \"sequential\"\n",
      "_________________________________________________________________\n",
      " Layer (type)                Output Shape              Param #   \n",
      "=================================================================\n",
      " embedding (Embedding)       (None, 1300, 100)         1423300   \n",
      "                                                                 \n",
      " bidirectional (Bidirectiona  (None, 1300, 256)        234496    \n",
      " l)                                                              \n",
      "                                                                 \n",
      " bidirectional_1 (Bidirectio  (None, 128)              164352    \n",
      " nal)                                                            \n",
      "                                                                 \n",
      " dense (Dense)               (None, 1)                 129       \n",
      "                                                                 \n",
      "=================================================================\n",
      "Total params: 1,822,277\n",
      "Trainable params: 1,822,277\n",
      "Non-trainable params: 0\n",
      "_________________________________________________________________\n",
      "None\n"
     ]
    }
   ],
   "source": [
    "### Model 2\n",
    "embedding_dim = 100\n",
    "model = Sequential()\n",
    "model.add(Embedding(input_dim=14233, output_dim=embedding_dim, input_length=max_len))\n",
    "model.add(Bidirectional(LSTM(units=128, return_sequences=True, dropout=0.2, recurrent_dropout=0.2)))\n",
    "model.add(Bidirectional(LSTM(units=64, dropout=0.2, recurrent_dropout=0.2)))\n",
    "model.add(Dense(1, activation='sigmoid'))\n",
    "model.compile(loss='binary_crossentropy', optimizer='adam', metrics=['accuracy'])\n",
    "print(model.summary())"
   ]
  },
  {
   "cell_type": "code",
   "execution_count": 17,
   "id": "026b2205",
   "metadata": {
    "execution": {
     "iopub.execute_input": "2023-04-27T14:14:38.799366Z",
     "iopub.status.busy": "2023-04-27T14:14:38.799044Z",
     "iopub.status.idle": "2023-04-27T14:14:38.803792Z",
     "shell.execute_reply": "2023-04-27T14:14:38.802713Z"
    },
    "papermill": {
     "duration": 0.017948,
     "end_time": "2023-04-27T14:14:38.805940",
     "exception": false,
     "start_time": "2023-04-27T14:14:38.787992",
     "status": "completed"
    },
    "tags": []
   },
   "outputs": [],
   "source": [
    "y = df[\"is_depression\"]"
   ]
  },
  {
   "cell_type": "code",
   "execution_count": 18,
   "id": "e4435dd8",
   "metadata": {
    "execution": {
     "iopub.execute_input": "2023-04-27T14:14:38.826884Z",
     "iopub.status.busy": "2023-04-27T14:14:38.826586Z",
     "iopub.status.idle": "2023-04-27T14:14:38.830869Z",
     "shell.execute_reply": "2023-04-27T14:14:38.830131Z"
    },
    "papermill": {
     "duration": 0.017924,
     "end_time": "2023-04-27T14:14:38.833831",
     "exception": false,
     "start_time": "2023-04-27T14:14:38.815907",
     "status": "completed"
    },
    "tags": []
   },
   "outputs": [
    {
     "name": "stdout",
     "output_type": "stream",
     "text": [
      "Shape of y is: (7731,)\n",
      "Shape of embedded document is: (7731, 1300)\n"
     ]
    }
   ],
   "source": [
    "print(f\"Shape of y is: {y.shape}\")\n",
    "print(f\"Shape of embedded document is: {embedded_docs.shape}\")"
   ]
  },
  {
   "cell_type": "markdown",
   "id": "20fe57a4",
   "metadata": {
    "papermill": {
     "duration": 0.009592,
     "end_time": "2023-04-27T14:14:38.853234",
     "exception": false,
     "start_time": "2023-04-27T14:14:38.843642",
     "status": "completed"
    },
    "tags": []
   },
   "source": [
    "# Train Test Split"
   ]
  },
  {
   "cell_type": "code",
   "execution_count": 19,
   "id": "d752242c",
   "metadata": {
    "execution": {
     "iopub.execute_input": "2023-04-27T14:14:38.874036Z",
     "iopub.status.busy": "2023-04-27T14:14:38.873774Z",
     "iopub.status.idle": "2023-04-27T14:14:38.899049Z",
     "shell.execute_reply": "2023-04-27T14:14:38.897968Z"
    },
    "papermill": {
     "duration": 0.038611,
     "end_time": "2023-04-27T14:14:38.901671",
     "exception": false,
     "start_time": "2023-04-27T14:14:38.863060",
     "status": "completed"
    },
    "tags": []
   },
   "outputs": [],
   "source": [
    "X_train, X_test, y_train, y_test = train_test_split(embedded_docs, y, test_size = 0.1, random_state = 42, stratify = y)"
   ]
  },
  {
   "cell_type": "code",
   "execution_count": 20,
   "id": "0e33bfb1",
   "metadata": {
    "execution": {
     "iopub.execute_input": "2023-04-27T14:14:38.923407Z",
     "iopub.status.busy": "2023-04-27T14:14:38.923113Z",
     "iopub.status.idle": "2023-04-27T14:14:38.929033Z",
     "shell.execute_reply": "2023-04-27T14:14:38.927800Z"
    },
    "papermill": {
     "duration": 0.018938,
     "end_time": "2023-04-27T14:14:38.931142",
     "exception": false,
     "start_time": "2023-04-27T14:14:38.912204",
     "status": "completed"
    },
    "tags": []
   },
   "outputs": [
    {
     "name": "stdout",
     "output_type": "stream",
     "text": [
      "Shape of X train is: (6957, 1300)\n",
      "Shape of y train is: (6957,)\n",
      "Shape of X test is: (774, 1300)\n",
      "Shape of y test is: (774,)\n"
     ]
    }
   ],
   "source": [
    "print(f\"Shape of X train is: {X_train.shape}\")\n",
    "print(f\"Shape of y train is: {y_train.shape}\")\n",
    "print(f\"Shape of X test is: {X_test.shape}\")\n",
    "print(f\"Shape of y test is: {y_test.shape}\")"
   ]
  },
  {
   "cell_type": "code",
   "execution_count": 21,
   "id": "a13b8c10",
   "metadata": {
    "execution": {
     "iopub.execute_input": "2023-04-27T14:14:38.952442Z",
     "iopub.status.busy": "2023-04-27T14:14:38.952177Z",
     "iopub.status.idle": "2023-04-27T21:34:11.617946Z",
     "shell.execute_reply": "2023-04-27T21:34:11.616839Z"
    },
    "papermill": {
     "duration": 26372.679469,
     "end_time": "2023-04-27T21:34:11.620605",
     "exception": false,
     "start_time": "2023-04-27T14:14:38.941136",
     "status": "completed"
    },
    "tags": []
   },
   "outputs": [
    {
     "name": "stdout",
     "output_type": "stream",
     "text": [
      "Epoch 1/3\n",
      "435/435 [==============================] - 8847s 20s/step - loss: 0.2052 - accuracy: 0.9242 - val_loss: 0.1397 - val_accuracy: 0.9561\n",
      "Epoch 2/3\n",
      "435/435 [==============================] - 8745s 20s/step - loss: 0.0883 - accuracy: 0.9711 - val_loss: 0.1667 - val_accuracy: 0.9432\n",
      "Epoch 3/3\n",
      "435/435 [==============================] - 8726s 20s/step - loss: 0.0540 - accuracy: 0.9809 - val_loss: 0.2016 - val_accuracy: 0.9457\n"
     ]
    }
   ],
   "source": [
    "history = model.fit(X_train,y_train,validation_data=(X_test,y_test),epochs=3,batch_size=16) # Kayanya epoch cukup di 3 aja\n",
    "\n",
    "#### Kalau ga cukup coba pakai chunking\n",
    "# chunk_size = 1000  # set the size of each chunk\n",
    "# # shuffle the data\n",
    "# X_train, Y_train = shuffle(X_train, Y_train)\n",
    "# # loop through the data in chunks\n",
    "# for i in range(0, len(X_train), chunk_size):\n",
    "#     X_chunk = X_train[i:i+chunk_size]\n",
    "#     Y_chunk = Y_train[i:i+chunk_size]  \n",
    "#     # train the model on the current chunk\n",
    "#     model.fit(X_chunk, Y_chunk, epochs=1, batch_size=32, validation_data=(X_test, Y_test))"
   ]
  },
  {
   "cell_type": "code",
   "execution_count": 22,
   "id": "9980eaff",
   "metadata": {
    "execution": {
     "iopub.execute_input": "2023-04-27T21:34:11.782200Z",
     "iopub.status.busy": "2023-04-27T21:34:11.781862Z",
     "iopub.status.idle": "2023-04-27T21:34:53.543894Z",
     "shell.execute_reply": "2023-04-27T21:34:53.542810Z"
    },
    "papermill": {
     "duration": 41.844802,
     "end_time": "2023-04-27T21:34:53.546245",
     "exception": false,
     "start_time": "2023-04-27T21:34:11.701443",
     "status": "completed"
    },
    "tags": []
   },
   "outputs": [
    {
     "name": "stdout",
     "output_type": "stream",
     "text": [
      "25/25 [==============================] - 28s 1s/step\n"
     ]
    }
   ],
   "source": [
    "y_pred = model.predict(X_test)"
   ]
  },
  {
   "cell_type": "markdown",
   "id": "eebc1536",
   "metadata": {
    "papermill": {
     "duration": 0.080372,
     "end_time": "2023-04-27T21:34:53.710381",
     "exception": false,
     "start_time": "2023-04-27T21:34:53.630009",
     "status": "completed"
    },
    "tags": []
   },
   "source": [
    "Probabilitas lebih besar dari atau sama dengan 0,5 akan diberikan ke kelas positif."
   ]
  },
  {
   "cell_type": "code",
   "execution_count": 23,
   "id": "d63b8260",
   "metadata": {
    "execution": {
     "iopub.execute_input": "2023-04-27T21:34:53.872713Z",
     "iopub.status.busy": "2023-04-27T21:34:53.871743Z",
     "iopub.status.idle": "2023-04-27T21:34:53.877105Z",
     "shell.execute_reply": "2023-04-27T21:34:53.876081Z"
    },
    "papermill": {
     "duration": 0.088888,
     "end_time": "2023-04-27T21:34:53.879322",
     "exception": false,
     "start_time": "2023-04-27T21:34:53.790434",
     "status": "completed"
    },
    "tags": []
   },
   "outputs": [],
   "source": [
    "y_pred = (y_pred >= 0.5).astype(\"int\")"
   ]
  },
  {
   "cell_type": "code",
   "execution_count": 24,
   "id": "1fbdcec5",
   "metadata": {
    "execution": {
     "iopub.execute_input": "2023-04-27T21:34:54.042094Z",
     "iopub.status.busy": "2023-04-27T21:34:54.041220Z",
     "iopub.status.idle": "2023-04-27T21:34:54.052495Z",
     "shell.execute_reply": "2023-04-27T21:34:54.051140Z"
    },
    "papermill": {
     "duration": 0.094554,
     "end_time": "2023-04-27T21:34:54.054541",
     "exception": false,
     "start_time": "2023-04-27T21:34:53.959987",
     "status": "completed"
    },
    "tags": []
   },
   "outputs": [
    {
     "name": "stdout",
     "output_type": "stream",
     "text": [
      "              precision    recall  f1-score   support\n",
      "\n",
      "           0       0.94      0.95      0.95       390\n",
      "           1       0.95      0.94      0.95       384\n",
      "\n",
      "    accuracy                           0.95       774\n",
      "   macro avg       0.95      0.95      0.95       774\n",
      "weighted avg       0.95      0.95      0.95       774\n",
      "\n",
      "[[370  20]\n",
      " [ 22 362]]\n"
     ]
    }
   ],
   "source": [
    "print(classification_report(y_test,y_pred))\n",
    "print(confusion_matrix(y_test,y_pred))"
   ]
  },
  {
   "cell_type": "code",
   "execution_count": 25,
   "id": "ff192e8b",
   "metadata": {
    "execution": {
     "iopub.execute_input": "2023-04-27T21:34:54.216808Z",
     "iopub.status.busy": "2023-04-27T21:34:54.215927Z",
     "iopub.status.idle": "2023-04-27T21:34:54.221285Z",
     "shell.execute_reply": "2023-04-27T21:34:54.220358Z"
    },
    "papermill": {
     "duration": 0.088663,
     "end_time": "2023-04-27T21:34:54.223410",
     "exception": false,
     "start_time": "2023-04-27T21:34:54.134747",
     "status": "completed"
    },
    "tags": []
   },
   "outputs": [],
   "source": [
    "y_test = y_test.reset_index(drop = True).values # Reset index `y_test` supaya dari 0 lagi sebelum dikonversi ke dalam array"
   ]
  },
  {
   "cell_type": "code",
   "execution_count": 26,
   "id": "5be7f50e",
   "metadata": {
    "execution": {
     "iopub.execute_input": "2023-04-27T21:34:54.385806Z",
     "iopub.status.busy": "2023-04-27T21:34:54.385494Z",
     "iopub.status.idle": "2023-04-27T21:34:54.389551Z",
     "shell.execute_reply": "2023-04-27T21:34:54.388542Z"
    },
    "papermill": {
     "duration": 0.087652,
     "end_time": "2023-04-27T21:34:54.391566",
     "exception": false,
     "start_time": "2023-04-27T21:34:54.303914",
     "status": "completed"
    },
    "tags": []
   },
   "outputs": [],
   "source": [
    "# model.save('model.h5')"
   ]
  },
  {
   "cell_type": "code",
   "execution_count": 27,
   "id": "449f7cc9",
   "metadata": {
    "execution": {
     "iopub.execute_input": "2023-04-27T21:34:54.553498Z",
     "iopub.status.busy": "2023-04-27T21:34:54.552638Z",
     "iopub.status.idle": "2023-04-27T21:34:54.557578Z",
     "shell.execute_reply": "2023-04-27T21:34:54.556696Z"
    },
    "papermill": {
     "duration": 0.088232,
     "end_time": "2023-04-27T21:34:54.559726",
     "exception": false,
     "start_time": "2023-04-27T21:34:54.471494",
     "status": "completed"
    },
    "tags": []
   },
   "outputs": [],
   "source": [
    "### Belum selesai\n",
    "# from keras.models import load_model\n",
    "\n",
    "# model = load_model('model.h5')\n",
    "\n",
    "# # Take user input from the command line\n",
    "# text = input(\"Enter your text: \")\n",
    "\n",
    "# # Tokenize and preprocess the text (use the same preprocessing steps as in training)\n",
    "# preprocessed_text = preprocess(text)\n",
    "\n",
    "# # Convert preprocessed text to a numpy array\n",
    "# X = np.array([preprocessed_text])\n",
    "\n",
    "# # Make predictions using your trained model\n",
    "# y_pred_prob = model.predict(X)\n",
    "# y_pred = np.argmax(y_pred_prob, axis=1)\n",
    "\n",
    "# # Print the predicted label (0 or 1)\n",
    "# print(\"Predicted label: {}\".format(y_pred[0]))"
   ]
  },
  {
   "cell_type": "code",
   "execution_count": 28,
   "id": "dde87013",
   "metadata": {
    "execution": {
     "iopub.execute_input": "2023-04-27T21:34:54.721637Z",
     "iopub.status.busy": "2023-04-27T21:34:54.720809Z",
     "iopub.status.idle": "2023-04-27T21:34:54.756866Z",
     "shell.execute_reply": "2023-04-27T21:34:54.755976Z"
    },
    "papermill": {
     "duration": 0.12251,
     "end_time": "2023-04-27T21:34:54.762434",
     "exception": false,
     "start_time": "2023-04-27T21:34:54.639924",
     "status": "completed"
    },
    "tags": []
   },
   "outputs": [
    {
     "name": "stdout",
     "output_type": "stream",
     "text": [
      "True label: 0, Predicted label: [0]\n",
      "True label: 1, Predicted label: [1]\n",
      "True label: 1, Predicted label: [1]\n",
      "True label: 0, Predicted label: [1]\n",
      "True label: 0, Predicted label: [0]\n",
      "True label: 0, Predicted label: [0]\n",
      "True label: 1, Predicted label: [1]\n",
      "True label: 1, Predicted label: [1]\n",
      "True label: 1, Predicted label: [1]\n",
      "True label: 1, Predicted label: [1]\n",
      "True label: 0, Predicted label: [0]\n",
      "True label: 1, Predicted label: [1]\n",
      "True label: 1, Predicted label: [1]\n",
      "True label: 1, Predicted label: [1]\n",
      "True label: 1, Predicted label: [1]\n",
      "True label: 0, Predicted label: [0]\n",
      "True label: 0, Predicted label: [0]\n",
      "True label: 0, Predicted label: [0]\n",
      "True label: 1, Predicted label: [1]\n",
      "True label: 1, Predicted label: [1]\n",
      "True label: 0, Predicted label: [0]\n",
      "True label: 0, Predicted label: [0]\n",
      "True label: 1, Predicted label: [1]\n",
      "True label: 0, Predicted label: [0]\n",
      "True label: 1, Predicted label: [1]\n",
      "True label: 1, Predicted label: [1]\n",
      "True label: 0, Predicted label: [0]\n",
      "True label: 1, Predicted label: [1]\n",
      "True label: 0, Predicted label: [0]\n",
      "True label: 1, Predicted label: [1]\n",
      "True label: 1, Predicted label: [1]\n",
      "True label: 0, Predicted label: [0]\n",
      "True label: 0, Predicted label: [0]\n",
      "True label: 0, Predicted label: [0]\n",
      "True label: 1, Predicted label: [1]\n",
      "True label: 1, Predicted label: [1]\n",
      "True label: 0, Predicted label: [1]\n",
      "True label: 1, Predicted label: [1]\n",
      "True label: 0, Predicted label: [0]\n",
      "True label: 0, Predicted label: [0]\n",
      "True label: 1, Predicted label: [1]\n",
      "True label: 0, Predicted label: [0]\n",
      "True label: 0, Predicted label: [0]\n",
      "True label: 1, Predicted label: [1]\n",
      "True label: 0, Predicted label: [0]\n",
      "True label: 0, Predicted label: [1]\n",
      "True label: 1, Predicted label: [1]\n",
      "True label: 1, Predicted label: [1]\n",
      "True label: 0, Predicted label: [0]\n",
      "True label: 0, Predicted label: [0]\n",
      "True label: 0, Predicted label: [0]\n",
      "True label: 1, Predicted label: [1]\n",
      "True label: 1, Predicted label: [1]\n",
      "True label: 1, Predicted label: [1]\n",
      "True label: 0, Predicted label: [0]\n",
      "True label: 1, Predicted label: [1]\n",
      "True label: 1, Predicted label: [1]\n",
      "True label: 0, Predicted label: [0]\n",
      "True label: 0, Predicted label: [0]\n",
      "True label: 0, Predicted label: [0]\n",
      "True label: 0, Predicted label: [0]\n",
      "True label: 0, Predicted label: [0]\n",
      "True label: 1, Predicted label: [1]\n",
      "True label: 0, Predicted label: [0]\n",
      "True label: 0, Predicted label: [0]\n",
      "True label: 1, Predicted label: [1]\n",
      "True label: 0, Predicted label: [0]\n",
      "True label: 1, Predicted label: [1]\n",
      "True label: 1, Predicted label: [1]\n",
      "True label: 1, Predicted label: [1]\n",
      "True label: 1, Predicted label: [1]\n",
      "True label: 1, Predicted label: [1]\n",
      "True label: 1, Predicted label: [1]\n",
      "True label: 1, Predicted label: [1]\n",
      "True label: 1, Predicted label: [1]\n",
      "True label: 0, Predicted label: [0]\n",
      "True label: 1, Predicted label: [1]\n",
      "True label: 0, Predicted label: [0]\n",
      "True label: 1, Predicted label: [0]\n",
      "True label: 1, Predicted label: [0]\n",
      "True label: 0, Predicted label: [0]\n",
      "True label: 1, Predicted label: [1]\n",
      "True label: 0, Predicted label: [0]\n",
      "True label: 0, Predicted label: [0]\n",
      "True label: 0, Predicted label: [0]\n",
      "True label: 1, Predicted label: [1]\n",
      "True label: 0, Predicted label: [1]\n",
      "True label: 1, Predicted label: [1]\n",
      "True label: 0, Predicted label: [0]\n",
      "True label: 0, Predicted label: [0]\n",
      "True label: 0, Predicted label: [0]\n",
      "True label: 0, Predicted label: [0]\n",
      "True label: 0, Predicted label: [0]\n",
      "True label: 0, Predicted label: [0]\n",
      "True label: 1, Predicted label: [1]\n",
      "True label: 0, Predicted label: [0]\n",
      "True label: 0, Predicted label: [0]\n",
      "True label: 1, Predicted label: [1]\n",
      "True label: 1, Predicted label: [0]\n",
      "True label: 0, Predicted label: [0]\n",
      "True label: 1, Predicted label: [1]\n",
      "True label: 0, Predicted label: [0]\n",
      "True label: 0, Predicted label: [0]\n",
      "True label: 1, Predicted label: [1]\n",
      "True label: 0, Predicted label: [0]\n",
      "True label: 0, Predicted label: [0]\n",
      "True label: 1, Predicted label: [1]\n",
      "True label: 0, Predicted label: [0]\n",
      "True label: 0, Predicted label: [0]\n",
      "True label: 0, Predicted label: [0]\n",
      "True label: 0, Predicted label: [0]\n",
      "True label: 0, Predicted label: [0]\n",
      "True label: 0, Predicted label: [0]\n",
      "True label: 0, Predicted label: [0]\n",
      "True label: 0, Predicted label: [0]\n",
      "True label: 1, Predicted label: [1]\n",
      "True label: 1, Predicted label: [1]\n",
      "True label: 1, Predicted label: [1]\n",
      "True label: 0, Predicted label: [0]\n",
      "True label: 0, Predicted label: [0]\n",
      "True label: 1, Predicted label: [1]\n",
      "True label: 0, Predicted label: [0]\n",
      "True label: 1, Predicted label: [1]\n",
      "True label: 1, Predicted label: [1]\n",
      "True label: 0, Predicted label: [0]\n",
      "True label: 0, Predicted label: [0]\n",
      "True label: 1, Predicted label: [1]\n",
      "True label: 1, Predicted label: [1]\n",
      "True label: 1, Predicted label: [1]\n",
      "True label: 0, Predicted label: [0]\n",
      "True label: 1, Predicted label: [1]\n",
      "True label: 1, Predicted label: [0]\n",
      "True label: 1, Predicted label: [1]\n",
      "True label: 0, Predicted label: [0]\n",
      "True label: 1, Predicted label: [1]\n",
      "True label: 0, Predicted label: [0]\n",
      "True label: 0, Predicted label: [0]\n",
      "True label: 1, Predicted label: [0]\n",
      "True label: 0, Predicted label: [0]\n",
      "True label: 0, Predicted label: [0]\n",
      "True label: 1, Predicted label: [1]\n",
      "True label: 1, Predicted label: [1]\n",
      "True label: 0, Predicted label: [0]\n",
      "True label: 0, Predicted label: [0]\n",
      "True label: 0, Predicted label: [0]\n",
      "True label: 0, Predicted label: [1]\n",
      "True label: 0, Predicted label: [0]\n",
      "True label: 1, Predicted label: [1]\n",
      "True label: 1, Predicted label: [1]\n",
      "True label: 1, Predicted label: [1]\n",
      "True label: 0, Predicted label: [0]\n",
      "True label: 0, Predicted label: [0]\n",
      "True label: 0, Predicted label: [0]\n",
      "True label: 0, Predicted label: [0]\n",
      "True label: 0, Predicted label: [0]\n",
      "True label: 0, Predicted label: [0]\n",
      "True label: 0, Predicted label: [0]\n",
      "True label: 1, Predicted label: [1]\n",
      "True label: 1, Predicted label: [1]\n",
      "True label: 1, Predicted label: [1]\n",
      "True label: 0, Predicted label: [0]\n",
      "True label: 1, Predicted label: [1]\n",
      "True label: 1, Predicted label: [1]\n",
      "True label: 0, Predicted label: [0]\n",
      "True label: 1, Predicted label: [1]\n",
      "True label: 0, Predicted label: [0]\n",
      "True label: 0, Predicted label: [0]\n",
      "True label: 0, Predicted label: [0]\n",
      "True label: 0, Predicted label: [0]\n",
      "True label: 0, Predicted label: [0]\n",
      "True label: 1, Predicted label: [1]\n",
      "True label: 0, Predicted label: [0]\n",
      "True label: 1, Predicted label: [1]\n",
      "True label: 0, Predicted label: [0]\n",
      "True label: 1, Predicted label: [1]\n",
      "True label: 0, Predicted label: [0]\n",
      "True label: 0, Predicted label: [0]\n",
      "True label: 1, Predicted label: [1]\n",
      "True label: 0, Predicted label: [0]\n",
      "True label: 0, Predicted label: [0]\n",
      "True label: 1, Predicted label: [1]\n",
      "True label: 0, Predicted label: [1]\n",
      "True label: 0, Predicted label: [0]\n",
      "True label: 0, Predicted label: [0]\n",
      "True label: 0, Predicted label: [0]\n",
      "True label: 0, Predicted label: [0]\n",
      "True label: 1, Predicted label: [1]\n",
      "True label: 1, Predicted label: [1]\n",
      "True label: 1, Predicted label: [1]\n",
      "True label: 1, Predicted label: [1]\n",
      "True label: 1, Predicted label: [1]\n",
      "True label: 1, Predicted label: [1]\n",
      "True label: 1, Predicted label: [1]\n",
      "True label: 1, Predicted label: [1]\n",
      "True label: 0, Predicted label: [0]\n",
      "True label: 0, Predicted label: [0]\n",
      "True label: 1, Predicted label: [1]\n",
      "True label: 0, Predicted label: [0]\n",
      "True label: 1, Predicted label: [1]\n",
      "True label: 1, Predicted label: [1]\n",
      "True label: 0, Predicted label: [0]\n",
      "True label: 0, Predicted label: [0]\n",
      "True label: 0, Predicted label: [0]\n",
      "True label: 1, Predicted label: [1]\n",
      "True label: 1, Predicted label: [1]\n",
      "True label: 1, Predicted label: [1]\n",
      "True label: 0, Predicted label: [0]\n",
      "True label: 1, Predicted label: [1]\n",
      "True label: 0, Predicted label: [0]\n",
      "True label: 1, Predicted label: [1]\n",
      "True label: 1, Predicted label: [1]\n",
      "True label: 1, Predicted label: [1]\n",
      "True label: 1, Predicted label: [1]\n",
      "True label: 1, Predicted label: [1]\n",
      "True label: 1, Predicted label: [1]\n",
      "True label: 1, Predicted label: [1]\n",
      "True label: 0, Predicted label: [0]\n",
      "True label: 0, Predicted label: [0]\n",
      "True label: 0, Predicted label: [0]\n",
      "True label: 1, Predicted label: [1]\n",
      "True label: 0, Predicted label: [0]\n",
      "True label: 0, Predicted label: [0]\n",
      "True label: 1, Predicted label: [1]\n",
      "True label: 0, Predicted label: [0]\n",
      "True label: 1, Predicted label: [1]\n",
      "True label: 0, Predicted label: [0]\n",
      "True label: 0, Predicted label: [0]\n",
      "True label: 1, Predicted label: [1]\n",
      "True label: 1, Predicted label: [1]\n",
      "True label: 0, Predicted label: [0]\n",
      "True label: 1, Predicted label: [1]\n",
      "True label: 0, Predicted label: [0]\n",
      "True label: 1, Predicted label: [1]\n",
      "True label: 0, Predicted label: [0]\n",
      "True label: 1, Predicted label: [1]\n",
      "True label: 1, Predicted label: [1]\n",
      "True label: 0, Predicted label: [1]\n",
      "True label: 1, Predicted label: [1]\n",
      "True label: 0, Predicted label: [0]\n",
      "True label: 0, Predicted label: [0]\n",
      "True label: 0, Predicted label: [0]\n",
      "True label: 0, Predicted label: [0]\n",
      "True label: 1, Predicted label: [1]\n",
      "True label: 0, Predicted label: [0]\n",
      "True label: 1, Predicted label: [1]\n",
      "True label: 0, Predicted label: [0]\n",
      "True label: 0, Predicted label: [0]\n",
      "True label: 1, Predicted label: [1]\n",
      "True label: 1, Predicted label: [1]\n",
      "True label: 0, Predicted label: [0]\n",
      "True label: 1, Predicted label: [1]\n",
      "True label: 0, Predicted label: [0]\n",
      "True label: 1, Predicted label: [1]\n",
      "True label: 1, Predicted label: [1]\n",
      "True label: 0, Predicted label: [0]\n",
      "True label: 0, Predicted label: [0]\n",
      "True label: 0, Predicted label: [0]\n",
      "True label: 1, Predicted label: [1]\n",
      "True label: 1, Predicted label: [1]\n",
      "True label: 0, Predicted label: [0]\n",
      "True label: 1, Predicted label: [1]\n",
      "True label: 0, Predicted label: [0]\n",
      "True label: 1, Predicted label: [1]\n",
      "True label: 1, Predicted label: [1]\n",
      "True label: 1, Predicted label: [1]\n",
      "True label: 0, Predicted label: [0]\n",
      "True label: 0, Predicted label: [0]\n",
      "True label: 1, Predicted label: [1]\n",
      "True label: 1, Predicted label: [1]\n",
      "True label: 1, Predicted label: [1]\n",
      "True label: 1, Predicted label: [1]\n",
      "True label: 0, Predicted label: [0]\n",
      "True label: 1, Predicted label: [1]\n",
      "True label: 1, Predicted label: [1]\n",
      "True label: 1, Predicted label: [1]\n",
      "True label: 1, Predicted label: [1]\n",
      "True label: 0, Predicted label: [0]\n",
      "True label: 1, Predicted label: [1]\n",
      "True label: 1, Predicted label: [1]\n",
      "True label: 0, Predicted label: [0]\n",
      "True label: 0, Predicted label: [0]\n",
      "True label: 1, Predicted label: [1]\n",
      "True label: 0, Predicted label: [0]\n",
      "True label: 1, Predicted label: [1]\n",
      "True label: 0, Predicted label: [0]\n",
      "True label: 0, Predicted label: [0]\n",
      "True label: 1, Predicted label: [1]\n",
      "True label: 1, Predicted label: [1]\n",
      "True label: 1, Predicted label: [1]\n",
      "True label: 0, Predicted label: [0]\n",
      "True label: 1, Predicted label: [1]\n",
      "True label: 0, Predicted label: [0]\n",
      "True label: 0, Predicted label: [0]\n",
      "True label: 0, Predicted label: [1]\n",
      "True label: 1, Predicted label: [1]\n",
      "True label: 0, Predicted label: [0]\n",
      "True label: 0, Predicted label: [0]\n",
      "True label: 0, Predicted label: [0]\n",
      "True label: 1, Predicted label: [1]\n",
      "True label: 1, Predicted label: [1]\n",
      "True label: 1, Predicted label: [1]\n",
      "True label: 1, Predicted label: [1]\n",
      "True label: 1, Predicted label: [1]\n",
      "True label: 1, Predicted label: [0]\n",
      "True label: 0, Predicted label: [0]\n",
      "True label: 0, Predicted label: [0]\n",
      "True label: 1, Predicted label: [1]\n",
      "True label: 0, Predicted label: [0]\n",
      "True label: 1, Predicted label: [1]\n",
      "True label: 1, Predicted label: [1]\n",
      "True label: 1, Predicted label: [1]\n",
      "True label: 0, Predicted label: [0]\n",
      "True label: 1, Predicted label: [1]\n",
      "True label: 1, Predicted label: [1]\n",
      "True label: 1, Predicted label: [1]\n",
      "True label: 0, Predicted label: [0]\n",
      "True label: 1, Predicted label: [1]\n",
      "True label: 1, Predicted label: [1]\n",
      "True label: 0, Predicted label: [0]\n",
      "True label: 0, Predicted label: [0]\n",
      "True label: 1, Predicted label: [1]\n",
      "True label: 1, Predicted label: [1]\n",
      "True label: 1, Predicted label: [1]\n",
      "True label: 0, Predicted label: [0]\n",
      "True label: 1, Predicted label: [1]\n",
      "True label: 0, Predicted label: [0]\n",
      "True label: 0, Predicted label: [0]\n",
      "True label: 0, Predicted label: [0]\n",
      "True label: 0, Predicted label: [0]\n",
      "True label: 0, Predicted label: [0]\n",
      "True label: 1, Predicted label: [1]\n",
      "True label: 1, Predicted label: [1]\n",
      "True label: 1, Predicted label: [1]\n",
      "True label: 1, Predicted label: [1]\n",
      "True label: 1, Predicted label: [0]\n",
      "True label: 1, Predicted label: [1]\n",
      "True label: 1, Predicted label: [1]\n",
      "True label: 1, Predicted label: [1]\n",
      "True label: 1, Predicted label: [1]\n",
      "True label: 0, Predicted label: [0]\n",
      "True label: 1, Predicted label: [1]\n",
      "True label: 0, Predicted label: [0]\n",
      "True label: 1, Predicted label: [1]\n",
      "True label: 1, Predicted label: [1]\n",
      "True label: 1, Predicted label: [1]\n",
      "True label: 0, Predicted label: [0]\n",
      "True label: 0, Predicted label: [0]\n",
      "True label: 0, Predicted label: [0]\n",
      "True label: 0, Predicted label: [0]\n",
      "True label: 1, Predicted label: [1]\n",
      "True label: 1, Predicted label: [1]\n",
      "True label: 1, Predicted label: [1]\n",
      "True label: 1, Predicted label: [1]\n",
      "True label: 1, Predicted label: [0]\n",
      "True label: 0, Predicted label: [0]\n",
      "True label: 1, Predicted label: [1]\n",
      "True label: 1, Predicted label: [1]\n",
      "True label: 0, Predicted label: [0]\n",
      "True label: 0, Predicted label: [0]\n",
      "True label: 1, Predicted label: [1]\n",
      "True label: 0, Predicted label: [0]\n",
      "True label: 1, Predicted label: [1]\n",
      "True label: 0, Predicted label: [0]\n",
      "True label: 1, Predicted label: [1]\n",
      "True label: 0, Predicted label: [0]\n",
      "True label: 0, Predicted label: [0]\n",
      "True label: 1, Predicted label: [1]\n",
      "True label: 0, Predicted label: [0]\n",
      "True label: 1, Predicted label: [1]\n",
      "True label: 1, Predicted label: [1]\n",
      "True label: 0, Predicted label: [0]\n",
      "True label: 1, Predicted label: [0]\n",
      "True label: 1, Predicted label: [1]\n",
      "True label: 0, Predicted label: [0]\n",
      "True label: 0, Predicted label: [0]\n",
      "True label: 0, Predicted label: [1]\n",
      "True label: 0, Predicted label: [0]\n",
      "True label: 1, Predicted label: [1]\n",
      "True label: 0, Predicted label: [0]\n",
      "True label: 0, Predicted label: [0]\n",
      "True label: 0, Predicted label: [0]\n",
      "True label: 0, Predicted label: [0]\n",
      "True label: 0, Predicted label: [0]\n",
      "True label: 1, Predicted label: [1]\n",
      "True label: 0, Predicted label: [0]\n",
      "True label: 1, Predicted label: [1]\n",
      "True label: 1, Predicted label: [1]\n",
      "True label: 1, Predicted label: [1]\n",
      "True label: 0, Predicted label: [0]\n",
      "True label: 1, Predicted label: [1]\n",
      "True label: 1, Predicted label: [1]\n",
      "True label: 0, Predicted label: [0]\n",
      "True label: 0, Predicted label: [0]\n",
      "True label: 1, Predicted label: [1]\n",
      "True label: 1, Predicted label: [1]\n",
      "True label: 0, Predicted label: [0]\n",
      "True label: 0, Predicted label: [0]\n",
      "True label: 0, Predicted label: [0]\n",
      "True label: 1, Predicted label: [1]\n",
      "True label: 1, Predicted label: [1]\n",
      "True label: 0, Predicted label: [0]\n",
      "True label: 1, Predicted label: [0]\n",
      "True label: 0, Predicted label: [0]\n",
      "True label: 0, Predicted label: [0]\n",
      "True label: 1, Predicted label: [1]\n",
      "True label: 1, Predicted label: [1]\n",
      "True label: 0, Predicted label: [0]\n",
      "True label: 0, Predicted label: [0]\n",
      "True label: 0, Predicted label: [0]\n",
      "True label: 0, Predicted label: [0]\n",
      "True label: 0, Predicted label: [0]\n",
      "True label: 0, Predicted label: [0]\n",
      "True label: 0, Predicted label: [0]\n",
      "True label: 1, Predicted label: [1]\n",
      "True label: 1, Predicted label: [1]\n",
      "True label: 1, Predicted label: [1]\n",
      "True label: 0, Predicted label: [0]\n",
      "True label: 0, Predicted label: [0]\n",
      "True label: 0, Predicted label: [0]\n",
      "True label: 0, Predicted label: [0]\n",
      "True label: 0, Predicted label: [0]\n",
      "True label: 0, Predicted label: [0]\n",
      "True label: 1, Predicted label: [1]\n",
      "True label: 0, Predicted label: [0]\n",
      "True label: 1, Predicted label: [1]\n",
      "True label: 0, Predicted label: [0]\n",
      "True label: 0, Predicted label: [0]\n",
      "True label: 1, Predicted label: [1]\n",
      "True label: 1, Predicted label: [0]\n",
      "True label: 0, Predicted label: [0]\n",
      "True label: 1, Predicted label: [1]\n",
      "True label: 0, Predicted label: [0]\n",
      "True label: 1, Predicted label: [1]\n",
      "True label: 0, Predicted label: [1]\n",
      "True label: 1, Predicted label: [1]\n",
      "True label: 1, Predicted label: [1]\n",
      "True label: 0, Predicted label: [0]\n",
      "True label: 0, Predicted label: [0]\n",
      "True label: 0, Predicted label: [0]\n",
      "True label: 0, Predicted label: [1]\n",
      "True label: 0, Predicted label: [0]\n",
      "True label: 0, Predicted label: [0]\n",
      "True label: 0, Predicted label: [0]\n",
      "True label: 0, Predicted label: [0]\n",
      "True label: 1, Predicted label: [1]\n",
      "True label: 0, Predicted label: [0]\n",
      "True label: 1, Predicted label: [1]\n",
      "True label: 1, Predicted label: [1]\n",
      "True label: 1, Predicted label: [1]\n",
      "True label: 0, Predicted label: [0]\n",
      "True label: 0, Predicted label: [0]\n",
      "True label: 1, Predicted label: [1]\n",
      "True label: 1, Predicted label: [1]\n",
      "True label: 1, Predicted label: [1]\n",
      "True label: 0, Predicted label: [0]\n",
      "True label: 1, Predicted label: [1]\n",
      "True label: 0, Predicted label: [0]\n",
      "True label: 0, Predicted label: [0]\n",
      "True label: 0, Predicted label: [0]\n",
      "True label: 0, Predicted label: [0]\n",
      "True label: 0, Predicted label: [0]\n",
      "True label: 1, Predicted label: [1]\n",
      "True label: 0, Predicted label: [0]\n",
      "True label: 0, Predicted label: [0]\n",
      "True label: 1, Predicted label: [1]\n",
      "True label: 1, Predicted label: [1]\n",
      "True label: 1, Predicted label: [1]\n",
      "True label: 1, Predicted label: [1]\n",
      "True label: 1, Predicted label: [1]\n",
      "True label: 0, Predicted label: [1]\n",
      "True label: 0, Predicted label: [0]\n",
      "True label: 1, Predicted label: [1]\n",
      "True label: 0, Predicted label: [0]\n",
      "True label: 1, Predicted label: [1]\n",
      "True label: 0, Predicted label: [0]\n",
      "True label: 1, Predicted label: [1]\n",
      "True label: 0, Predicted label: [0]\n",
      "True label: 0, Predicted label: [0]\n",
      "True label: 1, Predicted label: [1]\n",
      "True label: 0, Predicted label: [0]\n",
      "True label: 1, Predicted label: [1]\n",
      "True label: 1, Predicted label: [1]\n",
      "True label: 0, Predicted label: [0]\n",
      "True label: 1, Predicted label: [1]\n",
      "True label: 1, Predicted label: [1]\n",
      "True label: 0, Predicted label: [0]\n",
      "True label: 1, Predicted label: [1]\n",
      "True label: 0, Predicted label: [0]\n",
      "True label: 0, Predicted label: [0]\n",
      "True label: 1, Predicted label: [1]\n",
      "True label: 1, Predicted label: [1]\n",
      "True label: 0, Predicted label: [0]\n",
      "True label: 0, Predicted label: [0]\n",
      "True label: 1, Predicted label: [1]\n",
      "True label: 1, Predicted label: [1]\n",
      "True label: 1, Predicted label: [1]\n",
      "True label: 1, Predicted label: [1]\n",
      "True label: 1, Predicted label: [1]\n",
      "True label: 1, Predicted label: [1]\n",
      "True label: 1, Predicted label: [1]\n",
      "True label: 1, Predicted label: [1]\n",
      "True label: 1, Predicted label: [1]\n",
      "True label: 0, Predicted label: [0]\n",
      "True label: 1, Predicted label: [1]\n",
      "True label: 1, Predicted label: [1]\n",
      "True label: 1, Predicted label: [1]\n",
      "True label: 1, Predicted label: [1]\n",
      "True label: 1, Predicted label: [1]\n",
      "True label: 0, Predicted label: [0]\n",
      "True label: 0, Predicted label: [0]\n",
      "True label: 1, Predicted label: [1]\n",
      "True label: 0, Predicted label: [0]\n",
      "True label: 1, Predicted label: [1]\n",
      "True label: 0, Predicted label: [0]\n",
      "True label: 0, Predicted label: [0]\n",
      "True label: 0, Predicted label: [0]\n",
      "True label: 0, Predicted label: [0]\n",
      "True label: 1, Predicted label: [1]\n",
      "True label: 0, Predicted label: [0]\n",
      "True label: 0, Predicted label: [0]\n",
      "True label: 0, Predicted label: [0]\n",
      "True label: 0, Predicted label: [0]\n",
      "True label: 1, Predicted label: [1]\n",
      "True label: 0, Predicted label: [0]\n",
      "True label: 1, Predicted label: [1]\n",
      "True label: 1, Predicted label: [1]\n",
      "True label: 1, Predicted label: [1]\n",
      "True label: 1, Predicted label: [1]\n",
      "True label: 0, Predicted label: [0]\n",
      "True label: 1, Predicted label: [1]\n",
      "True label: 1, Predicted label: [1]\n",
      "True label: 1, Predicted label: [1]\n",
      "True label: 0, Predicted label: [0]\n",
      "True label: 1, Predicted label: [1]\n",
      "True label: 0, Predicted label: [0]\n",
      "True label: 1, Predicted label: [1]\n",
      "True label: 1, Predicted label: [1]\n",
      "True label: 1, Predicted label: [1]\n",
      "True label: 1, Predicted label: [1]\n",
      "True label: 1, Predicted label: [1]\n",
      "True label: 0, Predicted label: [0]\n",
      "True label: 0, Predicted label: [0]\n",
      "True label: 1, Predicted label: [1]\n",
      "True label: 1, Predicted label: [1]\n",
      "True label: 1, Predicted label: [1]\n",
      "True label: 0, Predicted label: [0]\n",
      "True label: 1, Predicted label: [1]\n",
      "True label: 1, Predicted label: [1]\n",
      "True label: 0, Predicted label: [0]\n",
      "True label: 0, Predicted label: [0]\n",
      "True label: 0, Predicted label: [0]\n",
      "True label: 1, Predicted label: [1]\n",
      "True label: 1, Predicted label: [1]\n",
      "True label: 1, Predicted label: [1]\n",
      "True label: 1, Predicted label: [1]\n",
      "True label: 0, Predicted label: [0]\n",
      "True label: 0, Predicted label: [0]\n",
      "True label: 0, Predicted label: [0]\n",
      "True label: 1, Predicted label: [1]\n",
      "True label: 1, Predicted label: [1]\n",
      "True label: 1, Predicted label: [1]\n",
      "True label: 0, Predicted label: [0]\n",
      "True label: 0, Predicted label: [0]\n",
      "True label: 1, Predicted label: [1]\n",
      "True label: 1, Predicted label: [1]\n",
      "True label: 1, Predicted label: [1]\n",
      "True label: 1, Predicted label: [1]\n",
      "True label: 0, Predicted label: [0]\n",
      "True label: 0, Predicted label: [0]\n",
      "True label: 1, Predicted label: [1]\n",
      "True label: 0, Predicted label: [0]\n",
      "True label: 0, Predicted label: [0]\n",
      "True label: 0, Predicted label: [0]\n",
      "True label: 0, Predicted label: [0]\n",
      "True label: 1, Predicted label: [1]\n",
      "True label: 1, Predicted label: [0]\n",
      "True label: 1, Predicted label: [1]\n",
      "True label: 0, Predicted label: [0]\n",
      "True label: 0, Predicted label: [0]\n",
      "True label: 0, Predicted label: [0]\n",
      "True label: 1, Predicted label: [1]\n",
      "True label: 0, Predicted label: [0]\n",
      "True label: 0, Predicted label: [0]\n",
      "True label: 0, Predicted label: [0]\n",
      "True label: 0, Predicted label: [0]\n",
      "True label: 1, Predicted label: [1]\n",
      "True label: 0, Predicted label: [0]\n",
      "True label: 0, Predicted label: [0]\n",
      "True label: 0, Predicted label: [0]\n",
      "True label: 0, Predicted label: [0]\n",
      "True label: 1, Predicted label: [1]\n",
      "True label: 1, Predicted label: [1]\n",
      "True label: 0, Predicted label: [0]\n",
      "True label: 1, Predicted label: [1]\n",
      "True label: 1, Predicted label: [1]\n",
      "True label: 1, Predicted label: [1]\n",
      "True label: 1, Predicted label: [1]\n",
      "True label: 0, Predicted label: [0]\n",
      "True label: 1, Predicted label: [1]\n",
      "True label: 0, Predicted label: [0]\n",
      "True label: 0, Predicted label: [1]\n",
      "True label: 0, Predicted label: [0]\n",
      "True label: 1, Predicted label: [1]\n",
      "True label: 1, Predicted label: [1]\n",
      "True label: 0, Predicted label: [0]\n",
      "True label: 0, Predicted label: [0]\n",
      "True label: 0, Predicted label: [0]\n",
      "True label: 1, Predicted label: [1]\n",
      "True label: 1, Predicted label: [1]\n",
      "True label: 1, Predicted label: [1]\n",
      "True label: 0, Predicted label: [1]\n",
      "True label: 1, Predicted label: [1]\n",
      "True label: 1, Predicted label: [1]\n",
      "True label: 0, Predicted label: [0]\n",
      "True label: 1, Predicted label: [1]\n",
      "True label: 0, Predicted label: [1]\n",
      "True label: 1, Predicted label: [1]\n",
      "True label: 0, Predicted label: [0]\n",
      "True label: 1, Predicted label: [1]\n",
      "True label: 1, Predicted label: [1]\n",
      "True label: 0, Predicted label: [0]\n",
      "True label: 0, Predicted label: [0]\n",
      "True label: 0, Predicted label: [0]\n",
      "True label: 0, Predicted label: [0]\n",
      "True label: 1, Predicted label: [1]\n",
      "True label: 0, Predicted label: [0]\n",
      "True label: 0, Predicted label: [0]\n",
      "True label: 0, Predicted label: [0]\n",
      "True label: 0, Predicted label: [0]\n",
      "True label: 1, Predicted label: [1]\n",
      "True label: 0, Predicted label: [0]\n",
      "True label: 0, Predicted label: [0]\n",
      "True label: 1, Predicted label: [1]\n",
      "True label: 0, Predicted label: [1]\n",
      "True label: 1, Predicted label: [1]\n",
      "True label: 1, Predicted label: [1]\n",
      "True label: 1, Predicted label: [1]\n",
      "True label: 0, Predicted label: [0]\n",
      "True label: 1, Predicted label: [1]\n",
      "True label: 1, Predicted label: [1]\n",
      "True label: 0, Predicted label: [0]\n",
      "True label: 0, Predicted label: [1]\n",
      "True label: 0, Predicted label: [0]\n",
      "True label: 0, Predicted label: [0]\n",
      "True label: 1, Predicted label: [1]\n",
      "True label: 0, Predicted label: [0]\n",
      "True label: 1, Predicted label: [1]\n",
      "True label: 0, Predicted label: [0]\n",
      "True label: 0, Predicted label: [0]\n",
      "True label: 0, Predicted label: [0]\n",
      "True label: 1, Predicted label: [0]\n",
      "True label: 1, Predicted label: [0]\n",
      "True label: 1, Predicted label: [1]\n",
      "True label: 0, Predicted label: [0]\n",
      "True label: 1, Predicted label: [1]\n",
      "True label: 0, Predicted label: [0]\n",
      "True label: 1, Predicted label: [1]\n",
      "True label: 0, Predicted label: [0]\n",
      "True label: 1, Predicted label: [1]\n",
      "True label: 0, Predicted label: [1]\n",
      "True label: 0, Predicted label: [0]\n",
      "True label: 0, Predicted label: [1]\n",
      "True label: 0, Predicted label: [0]\n",
      "True label: 0, Predicted label: [0]\n",
      "True label: 1, Predicted label: [1]\n",
      "True label: 1, Predicted label: [1]\n",
      "True label: 1, Predicted label: [1]\n",
      "True label: 0, Predicted label: [0]\n",
      "True label: 1, Predicted label: [1]\n",
      "True label: 1, Predicted label: [1]\n",
      "True label: 0, Predicted label: [0]\n",
      "True label: 0, Predicted label: [0]\n",
      "True label: 1, Predicted label: [1]\n",
      "True label: 0, Predicted label: [0]\n",
      "True label: 0, Predicted label: [0]\n",
      "True label: 1, Predicted label: [1]\n",
      "True label: 0, Predicted label: [0]\n",
      "True label: 1, Predicted label: [1]\n",
      "True label: 1, Predicted label: [1]\n",
      "True label: 1, Predicted label: [1]\n",
      "True label: 1, Predicted label: [1]\n",
      "True label: 0, Predicted label: [0]\n",
      "True label: 0, Predicted label: [0]\n",
      "True label: 0, Predicted label: [0]\n",
      "True label: 0, Predicted label: [0]\n",
      "True label: 0, Predicted label: [0]\n",
      "True label: 0, Predicted label: [0]\n",
      "True label: 0, Predicted label: [0]\n",
      "True label: 1, Predicted label: [1]\n",
      "True label: 1, Predicted label: [1]\n",
      "True label: 1, Predicted label: [1]\n",
      "True label: 1, Predicted label: [1]\n",
      "True label: 0, Predicted label: [0]\n",
      "True label: 1, Predicted label: [0]\n",
      "True label: 0, Predicted label: [0]\n",
      "True label: 1, Predicted label: [1]\n",
      "True label: 0, Predicted label: [0]\n",
      "True label: 0, Predicted label: [0]\n",
      "True label: 1, Predicted label: [1]\n",
      "True label: 0, Predicted label: [0]\n",
      "True label: 0, Predicted label: [0]\n",
      "True label: 1, Predicted label: [1]\n",
      "True label: 1, Predicted label: [1]\n",
      "True label: 1, Predicted label: [1]\n",
      "True label: 1, Predicted label: [1]\n",
      "True label: 1, Predicted label: [0]\n",
      "True label: 0, Predicted label: [0]\n",
      "True label: 0, Predicted label: [0]\n",
      "True label: 0, Predicted label: [0]\n",
      "True label: 0, Predicted label: [0]\n",
      "True label: 1, Predicted label: [1]\n",
      "True label: 0, Predicted label: [0]\n",
      "True label: 0, Predicted label: [0]\n",
      "True label: 0, Predicted label: [0]\n",
      "True label: 1, Predicted label: [1]\n",
      "True label: 0, Predicted label: [1]\n",
      "True label: 1, Predicted label: [1]\n",
      "True label: 1, Predicted label: [1]\n",
      "True label: 0, Predicted label: [0]\n",
      "True label: 0, Predicted label: [0]\n",
      "True label: 0, Predicted label: [0]\n",
      "True label: 0, Predicted label: [0]\n",
      "True label: 1, Predicted label: [1]\n",
      "True label: 1, Predicted label: [1]\n",
      "True label: 1, Predicted label: [1]\n",
      "True label: 0, Predicted label: [0]\n",
      "True label: 1, Predicted label: [0]\n",
      "True label: 0, Predicted label: [0]\n",
      "True label: 0, Predicted label: [0]\n",
      "True label: 1, Predicted label: [0]\n",
      "True label: 0, Predicted label: [0]\n",
      "True label: 1, Predicted label: [1]\n",
      "True label: 1, Predicted label: [0]\n",
      "True label: 0, Predicted label: [0]\n",
      "True label: 1, Predicted label: [1]\n",
      "True label: 0, Predicted label: [0]\n",
      "True label: 0, Predicted label: [0]\n",
      "True label: 1, Predicted label: [1]\n",
      "True label: 1, Predicted label: [1]\n",
      "True label: 0, Predicted label: [0]\n",
      "True label: 1, Predicted label: [1]\n",
      "True label: 1, Predicted label: [1]\n",
      "True label: 1, Predicted label: [1]\n",
      "True label: 0, Predicted label: [0]\n",
      "True label: 0, Predicted label: [0]\n",
      "True label: 0, Predicted label: [0]\n",
      "True label: 1, Predicted label: [1]\n",
      "True label: 0, Predicted label: [0]\n",
      "True label: 1, Predicted label: [1]\n",
      "True label: 1, Predicted label: [1]\n",
      "True label: 0, Predicted label: [0]\n",
      "True label: 1, Predicted label: [1]\n",
      "True label: 0, Predicted label: [0]\n",
      "True label: 0, Predicted label: [0]\n",
      "True label: 0, Predicted label: [0]\n",
      "True label: 1, Predicted label: [1]\n",
      "True label: 1, Predicted label: [1]\n",
      "True label: 0, Predicted label: [0]\n",
      "True label: 1, Predicted label: [1]\n",
      "True label: 0, Predicted label: [0]\n",
      "True label: 1, Predicted label: [1]\n",
      "True label: 0, Predicted label: [0]\n",
      "True label: 1, Predicted label: [0]\n",
      "True label: 1, Predicted label: [0]\n",
      "True label: 1, Predicted label: [1]\n",
      "True label: 0, Predicted label: [0]\n",
      "True label: 1, Predicted label: [1]\n",
      "True label: 1, Predicted label: [1]\n",
      "True label: 1, Predicted label: [0]\n",
      "True label: 0, Predicted label: [0]\n",
      "True label: 1, Predicted label: [1]\n",
      "True label: 0, Predicted label: [0]\n",
      "True label: 0, Predicted label: [0]\n",
      "True label: 1, Predicted label: [1]\n"
     ]
    }
   ],
   "source": [
    "for i in range(len(y_test)):\n",
    "    print(\"True label: {}, Predicted label: {}\".format(y_test[i], y_pred[i]))"
   ]
  },
  {
   "cell_type": "code",
   "execution_count": 29,
   "id": "703e8ab0",
   "metadata": {
    "execution": {
     "iopub.execute_input": "2023-04-27T21:34:54.927697Z",
     "iopub.status.busy": "2023-04-27T21:34:54.926792Z",
     "iopub.status.idle": "2023-04-27T21:34:54.933814Z",
     "shell.execute_reply": "2023-04-27T21:34:54.932471Z"
    },
    "papermill": {
     "duration": 0.091755,
     "end_time": "2023-04-27T21:34:54.935882",
     "exception": false,
     "start_time": "2023-04-27T21:34:54.844127",
     "status": "completed"
    },
    "tags": []
   },
   "outputs": [
    {
     "name": "stdout",
     "output_type": "stream",
     "text": [
      "dict_keys(['loss', 'accuracy', 'val_loss', 'val_accuracy'])\n"
     ]
    }
   ],
   "source": [
    "h = history.history\n",
    "print(h.keys())"
   ]
  },
  {
   "cell_type": "code",
   "execution_count": 30,
   "id": "10c65b92",
   "metadata": {
    "execution": {
     "iopub.execute_input": "2023-04-27T21:34:55.100724Z",
     "iopub.status.busy": "2023-04-27T21:34:55.099910Z",
     "iopub.status.idle": "2023-04-27T21:34:55.320029Z",
     "shell.execute_reply": "2023-04-27T21:34:55.319107Z"
    },
    "papermill": {
     "duration": 0.30454,
     "end_time": "2023-04-27T21:34:55.322001",
     "exception": false,
     "start_time": "2023-04-27T21:34:55.017461",
     "status": "completed"
    },
    "tags": []
   },
   "outputs": [
    {
     "data": {
      "image/png": "[encoded data removed]",
      "text/plain": [
       "<Figure size 640x480 with 1 Axes>"
      ]
     },
     "metadata": {},
     "output_type": "display_data"
    }
   ],
   "source": [
    "# Plot fungsi loss\n",
    "plt.plot(history.history['loss'])\n",
    "plt.plot(history.history['val_loss'])\n",
    "plt.title('Model Loss')\n",
    "plt.ylabel('Loss')\n",
    "plt.xlabel('Epoch')\n",
    "plt.legend(['Train', 'Validation'], loc='upper right')\n",
    "plt.show()"
   ]
  },
  {
   "cell_type": "code",
   "execution_count": 31,
   "id": "2fd906d5",
   "metadata": {
    "execution": {
     "iopub.execute_input": "2023-04-27T21:34:55.488514Z",
     "iopub.status.busy": "2023-04-27T21:34:55.488230Z",
     "iopub.status.idle": "2023-04-27T21:34:55.700896Z",
     "shell.execute_reply": "2023-04-27T21:34:55.699990Z"
    },
    "papermill": {
     "duration": 0.297561,
     "end_time": "2023-04-27T21:34:55.702853",
     "exception": false,
     "start_time": "2023-04-27T21:34:55.405292",
     "status": "completed"
    },
    "tags": []
   },
   "outputs": [
    {
     "data": {
      "image/png": "[encoded data removed]",
      "text/plain": [
       "<Figure size 640x480 with 1 Axes>"
      ]
     },
     "metadata": {},
     "output_type": "display_data"
    }
   ],
   "source": [
    "# Plot akurasi\n",
    "plt.plot(history.history['accuracy'])\n",
    "plt.plot(history.history['val_accuracy'])\n",
    "plt.title('Model Accuracy')\n",
    "plt.ylabel('Accuracy')\n",
    "plt.xlabel('Epoch')\n",
    "plt.legend(['Train', 'Validation'], loc='lower right')\n",
    "plt.show()"
   ]
  }
 ],
 "metadata": {
  "kernelspec": {
   "display_name": "Python 3",
   "language": "python",
   "name": "python3"
  },
  "language_info": {
   "codemirror_mode": {
    "name": "ipython",
    "version": 3
   },
   "file_extension": ".py",
   "mimetype": "text/x-python",
   "name": "python",
   "nbconvert_exporter": "python",
   "pygments_lexer": "ipython3",
   "version": "3.7.12"
  },
  "papermill": {
   "default_parameters": {},
   "duration": 27735.074097,
   "end_time": "2023-04-27T21:34:59.378386",
   "environment_variables": {},
   "exception": null,
   "input_path": "__notebook__.ipynb",
   "output_path": "__notebook__.ipynb",
   "parameters": {},
   "start_time": "2023-04-27T13:52:44.304289",
   "version": "2.4.0"
  }
 },
 "nbformat": 4,
 "nbformat_minor": 5
}
