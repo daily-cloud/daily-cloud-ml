{
 "cells": [
  {
   "cell_type": "markdown",
   "id": "62e23975",
   "metadata": {
    "papermill": {
     "duration": 0.007975,
     "end_time": "2023-04-27T05:06:45.310236",
     "exception": false,
     "start_time": "2023-04-27T05:06:45.302261",
     "status": "completed"
    },
    "tags": []
   },
   "source": [
    "# *Library*\n",
    "Import *library* yang dibutuhkan."
   ]
  },
  {
   "cell_type": "code",
   "execution_count": 1,
   "id": "3e582f1a",
   "metadata": {
    "execution": {
     "iopub.execute_input": "2023-04-27T05:06:45.326481Z",
     "iopub.status.busy": "2023-04-27T05:06:45.325309Z",
     "iopub.status.idle": "2023-04-27T05:07:05.740179Z",
     "shell.execute_reply": "2023-04-27T05:07:05.738965Z"
    },
    "papermill": {
     "duration": 20.425723,
     "end_time": "2023-04-27T05:07:05.742835",
     "exception": false,
     "start_time": "2023-04-27T05:06:45.317112",
     "status": "completed"
    },
    "tags": []
   },
   "outputs": [
    {
     "name": "stdout",
     "output_type": "stream",
     "text": [
      "Collecting num2words\r\n",
      "  Downloading num2words-0.5.12-py3-none-any.whl (125 kB)\r\n",
      "\u001b[2K     \u001b[90m━━━━━━━━━━━━━━━━━━━━━━━━━━━━━━━━━━━━━━━\u001b[0m \u001b[32m125.2/125.2 kB\u001b[0m \u001b[31m6.6 MB/s\u001b[0m eta \u001b[36m0:00:00\u001b[0m\r\n",
      "\u001b[?25hRequirement already satisfied: docopt>=0.6.2 in /opt/conda/lib/python3.7/site-packages (from num2words) (0.6.2)\r\n",
      "Installing collected packages: num2words\r\n",
      "Successfully installed num2words-0.5.12\r\n",
      "\u001b[33mWARNING: Running pip as the 'root' user can result in broken permissions and conflicting behaviour with the system package manager. It is recommended to use a virtual environment instead: https://pip.pypa.io/warnings/venv\u001b[0m\u001b[33m\r\n",
      "\u001b[0mCollecting Sastrawi\r\n",
      "  Downloading Sastrawi-1.0.1-py2.py3-none-any.whl (209 kB)\r\n",
      "\u001b[2K     \u001b[90m━━━━━━━━━━━━━━━━━━━━━━━━━━━━━━━━━━━━━━━\u001b[0m \u001b[32m209.7/209.7 kB\u001b[0m \u001b[31m8.0 MB/s\u001b[0m eta \u001b[36m0:00:00\u001b[0m\r\n",
      "\u001b[?25hInstalling collected packages: Sastrawi\r\n",
      "Successfully installed Sastrawi-1.0.1\r\n",
      "\u001b[33mWARNING: Running pip as the 'root' user can result in broken permissions and conflicting behaviour with the system package manager. It is recommended to use a virtual environment instead: https://pip.pypa.io/warnings/venv\u001b[0m\u001b[33m\r\n",
      "\u001b[0m"
     ]
    }
   ],
   "source": [
    "!pip3 install num2words # Install library untuk mengubah angka menjadi kata.\n",
    "!pip install Sastrawi # Karena wordnet tidak bisa digunakan maka di sini pakai Sastrawi."
   ]
  },
  {
   "cell_type": "code",
   "execution_count": 2,
   "id": "087fb773",
   "metadata": {
    "execution": {
     "iopub.execute_input": "2023-04-27T05:07:05.760431Z",
     "iopub.status.busy": "2023-04-27T05:07:05.759417Z",
     "iopub.status.idle": "2023-04-27T05:07:14.498873Z",
     "shell.execute_reply": "2023-04-27T05:07:14.497730Z"
    },
    "papermill": {
     "duration": 8.75057,
     "end_time": "2023-04-27T05:07:14.501423",
     "exception": false,
     "start_time": "2023-04-27T05:07:05.750853",
     "status": "completed"
    },
    "tags": []
   },
   "outputs": [],
   "source": [
    "# Library untuk membaca file .csv.\n",
    "import pandas as pd\n",
    "# Library untuk visualisasi.\n",
    "import matplotlib.pyplot as plt\n",
    "import seaborn as sns\n",
    "# Library untuk memproses teks.\n",
    "import nltk\n",
    "from nltk.stem import PorterStemmer\n",
    "from nltk.stem import WordNetLemmatizer\n",
    "from nltk.corpus import stopwords\n",
    "from nltk.tokenize import word_tokenize\n",
    "import re\n",
    "from tensorflow.keras.preprocessing.text import one_hot\n",
    "from num2words import num2words\n",
    "from Sastrawi.Stemmer.StemmerFactory import StemmerFactory\n",
    "# Library untuk membangun model.\n",
    "from tensorflow.keras.layers import LSTM\n",
    "from tensorflow.keras.layers import Bidirectional\n",
    "from tensorflow.keras.layers import Dense\n",
    "from tensorflow.keras.layers import Embedding\n",
    "from tensorflow.keras.preprocessing.sequence import pad_sequences\n",
    "from tensorflow.keras.models import Sequential\n",
    "# Library untuk memisahkan dataset.\n",
    "from sklearn.model_selection import train_test_split\n",
    "from sklearn.utils import shuffle\n",
    "# Library untuk evaluasi model.\n",
    "from sklearn.metrics import confusion_matrix\n",
    "from sklearn.metrics import classification_report"
   ]
  },
  {
   "cell_type": "code",
   "execution_count": 3,
   "id": "4a92c660",
   "metadata": {
    "execution": {
     "iopub.execute_input": "2023-04-27T05:07:14.519217Z",
     "iopub.status.busy": "2023-04-27T05:07:14.517351Z",
     "iopub.status.idle": "2023-04-27T05:07:14.681878Z",
     "shell.execute_reply": "2023-04-27T05:07:14.680791Z"
    },
    "papermill": {
     "duration": 0.175138,
     "end_time": "2023-04-27T05:07:14.684007",
     "exception": false,
     "start_time": "2023-04-27T05:07:14.508869",
     "status": "completed"
    },
    "tags": []
   },
   "outputs": [
    {
     "name": "stdout",
     "output_type": "stream",
     "text": [
      "[nltk_data] Downloading package punkt to /usr/share/nltk_data...\n",
      "[nltk_data]   Package punkt is already up-to-date!\n",
      "[nltk_data] Downloading package stopwords to /usr/share/nltk_data...\n",
      "[nltk_data]   Package stopwords is already up-to-date!\n"
     ]
    },
    {
     "data": {
      "text/plain": [
       "True"
      ]
     },
     "execution_count": 3,
     "metadata": {},
     "output_type": "execute_result"
    }
   ],
   "source": [
    "nltk.download('punkt') # Untuk tokenizer kata.\n",
    "nltk.download('stopwords')# Untuk menghapus stopwords.\n",
    "# nltk.download('wordnet') # Ada masalah ketika menggunakan wordnet."
   ]
  },
  {
   "cell_type": "markdown",
   "id": "9458f60d",
   "metadata": {
    "papermill": {
     "duration": 0.007234,
     "end_time": "2023-04-27T05:07:14.698849",
     "exception": false,
     "start_time": "2023-04-27T05:07:14.691615",
     "status": "completed"
    },
    "tags": []
   },
   "source": [
    "# Membaca Dataset\n",
    "Melakukan visualisasi dataset yang dimiliki."
   ]
  },
  {
   "cell_type": "code",
   "execution_count": 4,
   "id": "db1ca63b",
   "metadata": {
    "execution": {
     "iopub.execute_input": "2023-04-27T05:07:14.714605Z",
     "iopub.status.busy": "2023-04-27T05:07:14.714315Z",
     "iopub.status.idle": "2023-04-27T05:07:14.896956Z",
     "shell.execute_reply": "2023-04-27T05:07:14.895937Z"
    },
    "papermill": {
     "duration": 0.193241,
     "end_time": "2023-04-27T05:07:14.899332",
     "exception": false,
     "start_time": "2023-04-27T05:07:14.706091",
     "status": "completed"
    },
    "tags": []
   },
   "outputs": [
    {
     "data": {
      "text/html": [
       "<div>\n",
       "<style scoped>\n",
       "    .dataframe tbody tr th:only-of-type {\n",
       "        vertical-align: middle;\n",
       "    }\n",
       "\n",
       "    .dataframe tbody tr th {\n",
       "        vertical-align: top;\n",
       "    }\n",
       "\n",
       "    .dataframe thead th {\n",
       "        text-align: right;\n",
       "    }\n",
       "</style>\n",
       "<table border=\"1\" class=\"dataframe\">\n",
       "  <thead>\n",
       "    <tr style=\"text-align: right;\">\n",
       "      <th></th>\n",
       "      <th>text</th>\n",
       "      <th>is_depression</th>\n",
       "      <th>text_id</th>\n",
       "    </tr>\n",
       "  </thead>\n",
       "  <tbody>\n",
       "    <tr>\n",
       "      <th>0</th>\n",
       "      <td>we understand that most people who reply immed...</td>\n",
       "      <td>1</td>\n",
       "      <td>Kami memahami bahwa kebanyakan orang yang sege...</td>\n",
       "    </tr>\n",
       "    <tr>\n",
       "      <th>1</th>\n",
       "      <td>welcome to r depression s check in post a plac...</td>\n",
       "      <td>1</td>\n",
       "      <td>Selamat datang di post Depresi S Posting di te...</td>\n",
       "    </tr>\n",
       "    <tr>\n",
       "      <th>2</th>\n",
       "      <td>anyone else instead of sleeping more when depr...</td>\n",
       "      <td>1</td>\n",
       "      <td>orang lain daripada lebih banyak tidur ketika ...</td>\n",
       "    </tr>\n",
       "    <tr>\n",
       "      <th>3</th>\n",
       "      <td>i ve kind of stuffed around a lot in my life d...</td>\n",
       "      <td>1</td>\n",
       "      <td>Saya telah banyak mengisi banyak dalam hidup s...</td>\n",
       "    </tr>\n",
       "    <tr>\n",
       "      <th>4</th>\n",
       "      <td>sleep is my greatest and most comforting escap...</td>\n",
       "      <td>1</td>\n",
       "      <td>Tidur adalah pelarian terbesar dan paling meng...</td>\n",
       "    </tr>\n",
       "  </tbody>\n",
       "</table>\n",
       "</div>"
      ],
      "text/plain": [
       "                                                text  is_depression  \\\n",
       "0  we understand that most people who reply immed...              1   \n",
       "1  welcome to r depression s check in post a plac...              1   \n",
       "2  anyone else instead of sleeping more when depr...              1   \n",
       "3  i ve kind of stuffed around a lot in my life d...              1   \n",
       "4  sleep is my greatest and most comforting escap...              1   \n",
       "\n",
       "                                             text_id  \n",
       "0  Kami memahami bahwa kebanyakan orang yang sege...  \n",
       "1  Selamat datang di post Depresi S Posting di te...  \n",
       "2  orang lain daripada lebih banyak tidur ketika ...  \n",
       "3  Saya telah banyak mengisi banyak dalam hidup s...  \n",
       "4  Tidur adalah pelarian terbesar dan paling meng...  "
      ]
     },
     "execution_count": 4,
     "metadata": {},
     "output_type": "execute_result"
    }
   ],
   "source": [
    "df = pd.read_csv(\"/kaggle/input/data-mh-id/data_mh.csv\", delimiter=\",\") # Sesuaikan `delimiter` berdasarkan bahasa yang digunakan dalma .csv.\n",
    "df.head()"
   ]
  },
  {
   "cell_type": "markdown",
   "id": "f546e063",
   "metadata": {
    "papermill": {
     "duration": 0.008192,
     "end_time": "2023-04-27T05:07:14.915604",
     "exception": false,
     "start_time": "2023-04-27T05:07:14.907412",
     "status": "completed"
    },
    "tags": []
   },
   "source": [
    "Visualisasi label, usahakan label yang dimiliki seimbang."
   ]
  },
  {
   "cell_type": "code",
   "execution_count": 5,
   "id": "34b8dea7",
   "metadata": {
    "execution": {
     "iopub.execute_input": "2023-04-27T05:07:14.931811Z",
     "iopub.status.busy": "2023-04-27T05:07:14.931501Z",
     "iopub.status.idle": "2023-04-27T05:07:15.142822Z",
     "shell.execute_reply": "2023-04-27T05:07:15.142068Z"
    },
    "papermill": {
     "duration": 0.221865,
     "end_time": "2023-04-27T05:07:15.144940",
     "exception": false,
     "start_time": "2023-04-27T05:07:14.923075",
     "status": "completed"
    },
    "tags": []
   },
   "outputs": [
    {
     "data": {
      "text/plain": [
       "<AxesSubplot:>"
      ]
     },
     "execution_count": 5,
     "metadata": {},
     "output_type": "execute_result"
    },
    {
     "data": {
      "image/png": "[encoded data removed]",
      "text/plain": [
       "<Figure size 500x300 with 1 Axes>"
      ]
     },
     "metadata": {},
     "output_type": "display_data"
    }
   ],
   "source": [
    "df[\"is_depression\"].value_counts().plot(kind=\"bar\",figsize=(5,3))"
   ]
  },
  {
   "cell_type": "code",
   "execution_count": 6,
   "id": "785c7107",
   "metadata": {
    "execution": {
     "iopub.execute_input": "2023-04-27T05:07:15.162459Z",
     "iopub.status.busy": "2023-04-27T05:07:15.161786Z",
     "iopub.status.idle": "2023-04-27T05:07:15.170631Z",
     "shell.execute_reply": "2023-04-27T05:07:15.169549Z"
    },
    "papermill": {
     "duration": 0.019613,
     "end_time": "2023-04-27T05:07:15.172654",
     "exception": false,
     "start_time": "2023-04-27T05:07:15.153041",
     "status": "completed"
    },
    "tags": []
   },
   "outputs": [
    {
     "name": "stdout",
     "output_type": "stream",
     "text": [
      "text             0\n",
      "is_depression    0\n",
      "text_id          0\n",
      "dtype: int64\n"
     ]
    }
   ],
   "source": [
    "# Cek apakah terdapat null value atau tidak.\n",
    "print(df.isnull().sum())"
   ]
  },
  {
   "cell_type": "code",
   "execution_count": 7,
   "id": "f3d39c51",
   "metadata": {
    "execution": {
     "iopub.execute_input": "2023-04-27T05:07:15.190467Z",
     "iopub.status.busy": "2023-04-27T05:07:15.189379Z",
     "iopub.status.idle": "2023-04-27T05:07:15.204965Z",
     "shell.execute_reply": "2023-04-27T05:07:15.203345Z"
    },
    "papermill": {
     "duration": 0.026651,
     "end_time": "2023-04-27T05:07:15.207276",
     "exception": false,
     "start_time": "2023-04-27T05:07:15.180625",
     "status": "completed"
    },
    "tags": []
   },
   "outputs": [
    {
     "name": "stdout",
     "output_type": "stream",
     "text": [
      "<class 'pandas.core.frame.DataFrame'>\n",
      "RangeIndex: 7731 entries, 0 to 7730\n",
      "Data columns (total 3 columns):\n",
      " #   Column         Non-Null Count  Dtype \n",
      "---  ------         --------------  ----- \n",
      " 0   text           7731 non-null   object\n",
      " 1   is_depression  7731 non-null   int64 \n",
      " 2   text_id        7731 non-null   object\n",
      "dtypes: int64(1), object(2)\n",
      "memory usage: 181.3+ KB\n",
      "None\n"
     ]
    }
   ],
   "source": [
    "# Cek tipe data kolom.\n",
    "print(df.info())"
   ]
  },
  {
   "cell_type": "markdown",
   "id": "8f180b5c",
   "metadata": {
    "papermill": {
     "duration": 0.008237,
     "end_time": "2023-04-27T05:07:15.224582",
     "exception": false,
     "start_time": "2023-04-27T05:07:15.216345",
     "status": "completed"
    },
    "tags": []
   },
   "source": [
    "# Memproses Data Teks"
   ]
  },
  {
   "cell_type": "code",
   "execution_count": 8,
   "id": "44c6cd70",
   "metadata": {
    "execution": {
     "iopub.execute_input": "2023-04-27T05:07:15.242171Z",
     "iopub.status.busy": "2023-04-27T05:07:15.241786Z",
     "iopub.status.idle": "2023-04-27T05:07:15.264106Z",
     "shell.execute_reply": "2023-04-27T05:07:15.263155Z"
    },
    "papermill": {
     "duration": 0.033752,
     "end_time": "2023-04-27T05:07:15.266418",
     "exception": false,
     "start_time": "2023-04-27T05:07:15.232666",
     "status": "completed"
    },
    "tags": []
   },
   "outputs": [],
   "source": [
    "factory = StemmerFactory()\n",
    "stemmer = factory.create_stemmer()\n",
    "stop_words = set(stopwords.words('indonesian'))\n",
    "\n",
    "# def translate_text(text):\n",
    "#     url = \"https://translate.googleapis.com/translate_a/single?client=gtx&sl=en&tl=id&dt=t&q={}\".format(text)\n",
    "#     response = requests.get(url)\n",
    "#     result = response.json()[0][0][0]\n",
    "#     return result\n",
    "\n",
    "def preprocess_text(text):\n",
    "#     text = translate_text(text) # Kemudian di sini kita coba translate\n",
    "    text = word_tokenize(text.lower()) # Tokenize text_id ke dalam token/kata\n",
    "    text = [t for t in text if t not in stop_words] # Hapus stop_words\n",
    "    text = [stemmer.stem(t) for t in text] # Menjadikan kata dasar\n",
    "    text = [t if not t.isdigit() else num2words(int(t)) for t in text] # Mengganti angka ke teks\n",
    "#     text = emoji.demojize(text) # ubah emoji ke dalam bentuk teks\n",
    "#     text = re.sub(r':[a-z_]+:', lambda m: ' '.join(m.group(0).replace(':', '').split('_')), text) # Regex misal emoji: 🎉 bakal diubah jadi \"party popper\".\n",
    "    text = ' '.join(text) # Gabungkan ke dalam teks kembali\n",
    "    return text"
   ]
  },
  {
   "cell_type": "code",
   "execution_count": 9,
   "id": "79dac81d",
   "metadata": {
    "execution": {
     "iopub.execute_input": "2023-04-27T05:07:15.285063Z",
     "iopub.status.busy": "2023-04-27T05:07:15.284082Z",
     "iopub.status.idle": "2023-04-27T05:28:33.121694Z",
     "shell.execute_reply": "2023-04-27T05:28:33.120626Z"
    },
    "papermill": {
     "duration": 1277.849474,
     "end_time": "2023-04-27T05:28:33.124722",
     "exception": false,
     "start_time": "2023-04-27T05:07:15.275248",
     "status": "completed"
    },
    "tags": []
   },
   "outputs": [],
   "source": [
    "df = df[pd.notnull(df['text_id'])] # hapus semua baris dengan nilai NaN di kolom `text`\n",
    "df = df[df['text_id'].apply(lambda x: isinstance(x, str))] # hapus semua baris di mana `text` bukan string\n",
    "df['nlp_text'] = df['text_id'].apply(lambda x: preprocess_text(x))"
   ]
  },
  {
   "cell_type": "code",
   "execution_count": 10,
   "id": "3b4d68fe",
   "metadata": {
    "execution": {
     "iopub.execute_input": "2023-04-27T05:28:33.144126Z",
     "iopub.status.busy": "2023-04-27T05:28:33.143771Z",
     "iopub.status.idle": "2023-04-27T05:28:33.159055Z",
     "shell.execute_reply": "2023-04-27T05:28:33.157957Z"
    },
    "papermill": {
     "duration": 0.027127,
     "end_time": "2023-04-27T05:28:33.161503",
     "exception": false,
     "start_time": "2023-04-27T05:28:33.134376",
     "status": "completed"
    },
    "tags": []
   },
   "outputs": [
    {
     "data": {
      "text/html": [
       "<div>\n",
       "<style scoped>\n",
       "    .dataframe tbody tr th:only-of-type {\n",
       "        vertical-align: middle;\n",
       "    }\n",
       "\n",
       "    .dataframe tbody tr th {\n",
       "        vertical-align: top;\n",
       "    }\n",
       "\n",
       "    .dataframe thead th {\n",
       "        text-align: right;\n",
       "    }\n",
       "</style>\n",
       "<table border=\"1\" class=\"dataframe\">\n",
       "  <thead>\n",
       "    <tr style=\"text-align: right;\">\n",
       "      <th></th>\n",
       "      <th>text</th>\n",
       "      <th>is_depression</th>\n",
       "      <th>text_id</th>\n",
       "      <th>nlp_text</th>\n",
       "    </tr>\n",
       "  </thead>\n",
       "  <tbody>\n",
       "    <tr>\n",
       "      <th>0</th>\n",
       "      <td>we understand that most people who reply immed...</td>\n",
       "      <td>1</td>\n",
       "      <td>Kami memahami bahwa kebanyakan orang yang sege...</td>\n",
       "      <td>paham banyak orang balas op undang bicara prib...</td>\n",
       "    </tr>\n",
       "    <tr>\n",
       "      <th>1</th>\n",
       "      <td>welcome to r depression s check in post a plac...</td>\n",
       "      <td>1</td>\n",
       "      <td>Selamat datang di post Depresi S Posting di te...</td>\n",
       "      <td>selamat post depresi s posting ambil bagi mili...</td>\n",
       "    </tr>\n",
       "    <tr>\n",
       "      <th>2</th>\n",
       "      <td>anyone else instead of sleeping more when depr...</td>\n",
       "      <td>1</td>\n",
       "      <td>orang lain daripada lebih banyak tidur ketika ...</td>\n",
       "      <td>orang tidur depresi begadang malam hindar cepa...</td>\n",
       "    </tr>\n",
       "    <tr>\n",
       "      <th>3</th>\n",
       "      <td>i ve kind of stuffed around a lot in my life d...</td>\n",
       "      <td>1</td>\n",
       "      <td>Saya telah banyak mengisi banyak dalam hidup s...</td>\n",
       "      <td>isi hidup tunda orang hindar orang dewasa tang...</td>\n",
       "    </tr>\n",
       "    <tr>\n",
       "      <th>4</th>\n",
       "      <td>sleep is my greatest and most comforting escap...</td>\n",
       "      <td>1</td>\n",
       "      <td>Tidur adalah pelarian terbesar dan paling meng...</td>\n",
       "      <td>tidur lari besar hibur kali bangun  emosi rasa...</td>\n",
       "    </tr>\n",
       "  </tbody>\n",
       "</table>\n",
       "</div>"
      ],
      "text/plain": [
       "                                                text  is_depression  \\\n",
       "0  we understand that most people who reply immed...              1   \n",
       "1  welcome to r depression s check in post a plac...              1   \n",
       "2  anyone else instead of sleeping more when depr...              1   \n",
       "3  i ve kind of stuffed around a lot in my life d...              1   \n",
       "4  sleep is my greatest and most comforting escap...              1   \n",
       "\n",
       "                                             text_id  \\\n",
       "0  Kami memahami bahwa kebanyakan orang yang sege...   \n",
       "1  Selamat datang di post Depresi S Posting di te...   \n",
       "2  orang lain daripada lebih banyak tidur ketika ...   \n",
       "3  Saya telah banyak mengisi banyak dalam hidup s...   \n",
       "4  Tidur adalah pelarian terbesar dan paling meng...   \n",
       "\n",
       "                                            nlp_text  \n",
       "0  paham banyak orang balas op undang bicara prib...  \n",
       "1  selamat post depresi s posting ambil bagi mili...  \n",
       "2  orang tidur depresi begadang malam hindar cepa...  \n",
       "3  isi hidup tunda orang hindar orang dewasa tang...  \n",
       "4  tidur lari besar hibur kali bangun  emosi rasa...  "
      ]
     },
     "execution_count": 10,
     "metadata": {},
     "output_type": "execute_result"
    }
   ],
   "source": [
    "df.head()"
   ]
  },
  {
   "cell_type": "markdown",
   "id": "77943188",
   "metadata": {
    "papermill": {
     "duration": 0.007903,
     "end_time": "2023-04-27T05:28:33.178117",
     "exception": false,
     "start_time": "2023-04-27T05:28:33.170214",
     "status": "completed"
    },
    "tags": []
   },
   "source": [
    "# Hitung *Unique Words*\n",
    "Menghitung unique words untuk menghitung ukuran *vocabulary*."
   ]
  },
  {
   "cell_type": "code",
   "execution_count": 11,
   "id": "2ca61d31",
   "metadata": {
    "execution": {
     "iopub.execute_input": "2023-04-27T05:28:33.195625Z",
     "iopub.status.busy": "2023-04-27T05:28:33.195343Z",
     "iopub.status.idle": "2023-04-27T05:28:33.231129Z",
     "shell.execute_reply": "2023-04-27T05:28:33.229960Z"
    },
    "papermill": {
     "duration": 0.04719,
     "end_time": "2023-04-27T05:28:33.233338",
     "exception": false,
     "start_time": "2023-04-27T05:28:33.186148",
     "status": "completed"
    },
    "tags": []
   },
   "outputs": [
    {
     "name": "stdout",
     "output_type": "stream",
     "text": [
      "14233\n"
     ]
    }
   ],
   "source": [
    "words = set(word for sentence in df[\"nlp_text\"] for word in sentence.split())\n",
    "vocab_size = len(words)\n",
    "print(vocab_size)"
   ]
  },
  {
   "cell_type": "markdown",
   "id": "3547b245",
   "metadata": {
    "papermill": {
     "duration": 0.008364,
     "end_time": "2023-04-27T05:28:33.249861",
     "exception": false,
     "start_time": "2023-04-27T05:28:33.241497",
     "status": "completed"
    },
    "tags": []
   },
   "source": [
    "# One Hot Representation dari Setiap Kalimat"
   ]
  },
  {
   "cell_type": "code",
   "execution_count": 12,
   "id": "c66421f2",
   "metadata": {
    "execution": {
     "iopub.execute_input": "2023-04-27T05:28:33.268317Z",
     "iopub.status.busy": "2023-04-27T05:28:33.267244Z",
     "iopub.status.idle": "2023-04-27T05:28:33.415441Z",
     "shell.execute_reply": "2023-04-27T05:28:33.414385Z"
    },
    "papermill": {
     "duration": 0.159773,
     "end_time": "2023-04-27T05:28:33.417899",
     "exception": false,
     "start_time": "2023-04-27T05:28:33.258126",
     "status": "completed"
    },
    "tags": []
   },
   "outputs": [],
   "source": [
    "one_hot_representation = [one_hot(words,vocab_size) for words in df[\"nlp_text\"]]\n",
    "# one_hot_representation"
   ]
  },
  {
   "cell_type": "markdown",
   "id": "55c793af",
   "metadata": {
    "papermill": {
     "duration": 0.008454,
     "end_time": "2023-04-27T05:28:33.434772",
     "exception": false,
     "start_time": "2023-04-27T05:28:33.426318",
     "status": "completed"
    },
    "tags": []
   },
   "source": [
    "Cari panjang maksimum untuk dimasukan ke dalam word embeddings."
   ]
  },
  {
   "cell_type": "code",
   "execution_count": 13,
   "id": "6d08d6d5",
   "metadata": {
    "execution": {
     "iopub.execute_input": "2023-04-27T05:28:33.453265Z",
     "iopub.status.busy": "2023-04-27T05:28:33.452247Z",
     "iopub.status.idle": "2023-04-27T05:28:33.460595Z",
     "shell.execute_reply": "2023-04-27T05:28:33.459767Z"
    },
    "papermill": {
     "duration": 0.01951,
     "end_time": "2023-04-27T05:28:33.462494",
     "exception": false,
     "start_time": "2023-04-27T05:28:33.442984",
     "status": "completed"
    },
    "tags": []
   },
   "outputs": [
    {
     "data": {
      "text/plain": [
       "1300"
      ]
     },
     "execution_count": 13,
     "metadata": {},
     "output_type": "execute_result"
    }
   ],
   "source": [
    "max_len = 0\n",
    "for elem in one_hot_representation:\n",
    "    if len(elem) > max_len:\n",
    "        max_len = len(elem)\n",
    "max_len"
   ]
  },
  {
   "cell_type": "markdown",
   "id": "8299282d",
   "metadata": {
    "papermill": {
     "duration": 0.007918,
     "end_time": "2023-04-27T05:28:33.478653",
     "exception": false,
     "start_time": "2023-04-27T05:28:33.470735",
     "status": "completed"
    },
    "tags": []
   },
   "source": [
    "# Converting one hot encodings to word embeddings"
   ]
  },
  {
   "cell_type": "code",
   "execution_count": 14,
   "id": "bd6ef251",
   "metadata": {
    "execution": {
     "iopub.execute_input": "2023-04-27T05:28:33.496855Z",
     "iopub.status.busy": "2023-04-27T05:28:33.496040Z",
     "iopub.status.idle": "2023-04-27T05:28:33.536416Z",
     "shell.execute_reply": "2023-04-27T05:28:33.535340Z"
    },
    "papermill": {
     "duration": 0.05232,
     "end_time": "2023-04-27T05:28:33.539097",
     "exception": false,
     "start_time": "2023-04-27T05:28:33.486777",
     "status": "completed"
    },
    "tags": []
   },
   "outputs": [],
   "source": [
    "embedded_docs = pad_sequences(one_hot_representation, padding='pre', maxlen = max_len)"
   ]
  },
  {
   "cell_type": "code",
   "execution_count": 15,
   "id": "43f5ccf6",
   "metadata": {
    "execution": {
     "iopub.execute_input": "2023-04-27T05:28:33.557850Z",
     "iopub.status.busy": "2023-04-27T05:28:33.557527Z",
     "iopub.status.idle": "2023-04-27T05:28:36.778035Z",
     "shell.execute_reply": "2023-04-27T05:28:36.777146Z"
    },
    "papermill": {
     "duration": 3.249106,
     "end_time": "2023-04-27T05:28:36.797169",
     "exception": false,
     "start_time": "2023-04-27T05:28:33.548063",
     "status": "completed"
    },
    "tags": []
   },
   "outputs": [
    {
     "name": "stdout",
     "output_type": "stream",
     "text": [
      "Model: \"sequential\"\n",
      "_________________________________________________________________\n",
      " Layer (type)                Output Shape              Param #   \n",
      "=================================================================\n",
      " embedding (Embedding)       (None, 1300, 2600)        37005800  \n",
      "                                                                 \n",
      " lstm (LSTM)                 (None, 100)               1080400   \n",
      "                                                                 \n",
      " dense (Dense)               (None, 1)                 101       \n",
      "                                                                 \n",
      "=================================================================\n",
      "Total params: 38,086,301\n",
      "Trainable params: 38,086,301\n",
      "Non-trainable params: 0\n",
      "_________________________________________________________________\n",
      "None\n"
     ]
    }
   ],
   "source": [
    "embedding_vector_features = max_len * 2\n",
    "model = Sequential()\n",
    "model.add(Embedding(14233, embedding_vector_features, input_length=max_len))\n",
    "model.add((LSTM(100)))\n",
    "model.add(Dense(1,activation = 'sigmoid'))\n",
    "model.compile(loss='binary_crossentropy', optimizer = 'adam',metrics = ['accuracy'])\n",
    "print(model.summary())"
   ]
  },
  {
   "cell_type": "code",
   "execution_count": 16,
   "id": "873d8737",
   "metadata": {
    "execution": {
     "iopub.execute_input": "2023-04-27T05:28:36.826507Z",
     "iopub.status.busy": "2023-04-27T05:28:36.825980Z",
     "iopub.status.idle": "2023-04-27T05:28:36.831689Z",
     "shell.execute_reply": "2023-04-27T05:28:36.830393Z"
    },
    "papermill": {
     "duration": 0.024372,
     "end_time": "2023-04-27T05:28:36.835543",
     "exception": false,
     "start_time": "2023-04-27T05:28:36.811171",
     "status": "completed"
    },
    "tags": []
   },
   "outputs": [],
   "source": [
    "y = df[\"is_depression\"]"
   ]
  },
  {
   "cell_type": "code",
   "execution_count": 17,
   "id": "15feb06e",
   "metadata": {
    "execution": {
     "iopub.execute_input": "2023-04-27T05:28:36.865191Z",
     "iopub.status.busy": "2023-04-27T05:28:36.864745Z",
     "iopub.status.idle": "2023-04-27T05:28:36.870601Z",
     "shell.execute_reply": "2023-04-27T05:28:36.869723Z"
    },
    "papermill": {
     "duration": 0.026501,
     "end_time": "2023-04-27T05:28:36.875906",
     "exception": false,
     "start_time": "2023-04-27T05:28:36.849405",
     "status": "completed"
    },
    "tags": []
   },
   "outputs": [
    {
     "name": "stdout",
     "output_type": "stream",
     "text": [
      "Shape of y is: (7731,)\n",
      "Shape of embedded document is: (7731, 1300)\n"
     ]
    }
   ],
   "source": [
    "print(f\"Shape of y is: {y.shape}\")\n",
    "print(f\"Shape of embedded document is: {embedded_docs.shape}\")"
   ]
  },
  {
   "cell_type": "markdown",
   "id": "cb43d94e",
   "metadata": {
    "papermill": {
     "duration": 0.013426,
     "end_time": "2023-04-27T05:28:36.902774",
     "exception": false,
     "start_time": "2023-04-27T05:28:36.889348",
     "status": "completed"
    },
    "tags": []
   },
   "source": [
    "# Train Test Split"
   ]
  },
  {
   "cell_type": "code",
   "execution_count": 18,
   "id": "445efb12",
   "metadata": {
    "execution": {
     "iopub.execute_input": "2023-04-27T05:28:36.931247Z",
     "iopub.status.busy": "2023-04-27T05:28:36.930747Z",
     "iopub.status.idle": "2023-04-27T05:28:36.961225Z",
     "shell.execute_reply": "2023-04-27T05:28:36.960098Z"
    },
    "papermill": {
     "duration": 0.048388,
     "end_time": "2023-04-27T05:28:36.964596",
     "exception": false,
     "start_time": "2023-04-27T05:28:36.916208",
     "status": "completed"
    },
    "tags": []
   },
   "outputs": [],
   "source": [
    "X_train, X_test, y_train, y_test = train_test_split(embedded_docs, y, test_size = 0.1, random_state = 42, stratify = y)"
   ]
  },
  {
   "cell_type": "code",
   "execution_count": 19,
   "id": "267349b5",
   "metadata": {
    "execution": {
     "iopub.execute_input": "2023-04-27T05:28:36.996152Z",
     "iopub.status.busy": "2023-04-27T05:28:36.995661Z",
     "iopub.status.idle": "2023-04-27T05:28:37.002482Z",
     "shell.execute_reply": "2023-04-27T05:28:37.001547Z"
    },
    "papermill": {
     "duration": 0.027743,
     "end_time": "2023-04-27T05:28:37.008124",
     "exception": false,
     "start_time": "2023-04-27T05:28:36.980381",
     "status": "completed"
    },
    "tags": []
   },
   "outputs": [
    {
     "name": "stdout",
     "output_type": "stream",
     "text": [
      "Shape of X train is: (6957, 1300)\n",
      "Shape of y train is: (6957,)\n",
      "Shape of X test is: (774, 1300)\n",
      "Shape of y test is: (774,)\n"
     ]
    }
   ],
   "source": [
    "print(f\"Shape of X train is: {X_train.shape}\")\n",
    "print(f\"Shape of y train is: {y_train.shape}\")\n",
    "print(f\"Shape of X test is: {X_test.shape}\")\n",
    "print(f\"Shape of y test is: {y_test.shape}\")"
   ]
  },
  {
   "cell_type": "code",
   "execution_count": 20,
   "id": "fb194348",
   "metadata": {
    "execution": {
     "iopub.execute_input": "2023-04-27T05:28:37.036779Z",
     "iopub.status.busy": "2023-04-27T05:28:37.036332Z",
     "iopub.status.idle": "2023-04-27T05:32:30.782153Z",
     "shell.execute_reply": "2023-04-27T05:32:30.780936Z"
    },
    "papermill": {
     "duration": 233.76263,
     "end_time": "2023-04-27T05:32:30.784384",
     "exception": false,
     "start_time": "2023-04-27T05:28:37.021754",
     "status": "completed"
    },
    "tags": []
   },
   "outputs": [
    {
     "name": "stdout",
     "output_type": "stream",
     "text": [
      "Epoch 1/5\n",
      "435/435 [==============================] - 76s 160ms/step - loss: 0.1733 - accuracy: 0.9366 - val_loss: 0.1107 - val_accuracy: 0.9638\n",
      "Epoch 2/5\n",
      "435/435 [==============================] - 44s 100ms/step - loss: 0.0679 - accuracy: 0.9715 - val_loss: 0.1161 - val_accuracy: 0.9625\n",
      "Epoch 3/5\n",
      "435/435 [==============================] - 39s 90ms/step - loss: 0.0323 - accuracy: 0.9871 - val_loss: 0.1559 - val_accuracy: 0.9470\n",
      "Epoch 4/5\n",
      "435/435 [==============================] - 37s 86ms/step - loss: 0.0189 - accuracy: 0.9931 - val_loss: 0.1905 - val_accuracy: 0.9535\n",
      "Epoch 5/5\n",
      "435/435 [==============================] - 38s 87ms/step - loss: 0.0142 - accuracy: 0.9945 - val_loss: 0.2225 - val_accuracy: 0.9406\n"
     ]
    },
    {
     "data": {
      "text/plain": [
       "<keras.callbacks.History at 0x7c648e55ec50>"
      ]
     },
     "execution_count": 20,
     "metadata": {},
     "output_type": "execute_result"
    }
   ],
   "source": [
    "model.fit(X_train,y_train,validation_data=(X_test,y_test),epochs=5,batch_size=16) # Kayanya epoch cukup di 3 aja\n",
    "\n",
    "#### Kalau ga cukup coba pakai chunking\n",
    "# chunk_size = 1000  # set the size of each chunk\n",
    "# # shuffle the data\n",
    "# X_train, Y_train = shuffle(X_train, Y_train)\n",
    "# # loop through the data in chunks\n",
    "# for i in range(0, len(X_train), chunk_size):\n",
    "#     X_chunk = X_train[i:i+chunk_size]\n",
    "#     Y_chunk = Y_train[i:i+chunk_size]  \n",
    "#     # train the model on the current chunk\n",
    "#     model.fit(X_chunk, Y_chunk, epochs=1, batch_size=32, validation_data=(X_test, Y_test))"
   ]
  },
  {
   "cell_type": "code",
   "execution_count": 21,
   "id": "03bb509d",
   "metadata": {
    "execution": {
     "iopub.execute_input": "2023-04-27T05:32:31.100185Z",
     "iopub.status.busy": "2023-04-27T05:32:31.099140Z",
     "iopub.status.idle": "2023-04-27T05:32:32.579929Z",
     "shell.execute_reply": "2023-04-27T05:32:32.578856Z"
    },
    "papermill": {
     "duration": 1.611025,
     "end_time": "2023-04-27T05:32:32.582771",
     "exception": false,
     "start_time": "2023-04-27T05:32:30.971746",
     "status": "completed"
    },
    "tags": []
   },
   "outputs": [
    {
     "name": "stdout",
     "output_type": "stream",
     "text": [
      "25/25 [==============================] - 1s 42ms/step\n"
     ]
    }
   ],
   "source": [
    "y_pred = model.predict(X_test)"
   ]
  },
  {
   "cell_type": "markdown",
   "id": "01903423",
   "metadata": {
    "papermill": {
     "duration": 0.168076,
     "end_time": "2023-04-27T05:32:32.882248",
     "exception": false,
     "start_time": "2023-04-27T05:32:32.714172",
     "status": "completed"
    },
    "tags": []
   },
   "source": [
    "Probability greater than or equal to 0.5 will be assigned to the positive class."
   ]
  },
  {
   "cell_type": "code",
   "execution_count": 22,
   "id": "4f375013",
   "metadata": {
    "execution": {
     "iopub.execute_input": "2023-04-27T05:32:33.139999Z",
     "iopub.status.busy": "2023-04-27T05:32:33.139627Z",
     "iopub.status.idle": "2023-04-27T05:32:33.144906Z",
     "shell.execute_reply": "2023-04-27T05:32:33.143917Z"
    },
    "papermill": {
     "duration": 0.136592,
     "end_time": "2023-04-27T05:32:33.147180",
     "exception": false,
     "start_time": "2023-04-27T05:32:33.010588",
     "status": "completed"
    },
    "tags": []
   },
   "outputs": [],
   "source": [
    "y_pred = (y_pred >= 0.5).astype(\"int\")"
   ]
  },
  {
   "cell_type": "code",
   "execution_count": 23,
   "id": "638decf6",
   "metadata": {
    "execution": {
     "iopub.execute_input": "2023-04-27T05:32:33.402500Z",
     "iopub.status.busy": "2023-04-27T05:32:33.401426Z",
     "iopub.status.idle": "2023-04-27T05:32:33.414648Z",
     "shell.execute_reply": "2023-04-27T05:32:33.413176Z"
    },
    "papermill": {
     "duration": 0.142488,
     "end_time": "2023-04-27T05:32:33.416946",
     "exception": false,
     "start_time": "2023-04-27T05:32:33.274458",
     "status": "completed"
    },
    "tags": []
   },
   "outputs": [
    {
     "name": "stdout",
     "output_type": "stream",
     "text": [
      "              precision    recall  f1-score   support\n",
      "\n",
      "           0       0.95      0.93      0.94       390\n",
      "           1       0.93      0.95      0.94       384\n",
      "\n",
      "    accuracy                           0.94       774\n",
      "   macro avg       0.94      0.94      0.94       774\n",
      "weighted avg       0.94      0.94      0.94       774\n",
      "\n",
      "[[363  27]\n",
      " [ 19 365]]\n"
     ]
    }
   ],
   "source": [
    "print(classification_report(y_test,y_pred))\n",
    "print(confusion_matrix(y_test,y_pred))"
   ]
  },
  {
   "cell_type": "code",
   "execution_count": 24,
   "id": "e7ff4dba",
   "metadata": {
    "execution": {
     "iopub.execute_input": "2023-04-27T05:32:33.677909Z",
     "iopub.status.busy": "2023-04-27T05:32:33.676883Z",
     "iopub.status.idle": "2023-04-27T05:32:33.682805Z",
     "shell.execute_reply": "2023-04-27T05:32:33.681657Z"
    },
    "papermill": {
     "duration": 0.139584,
     "end_time": "2023-04-27T05:32:33.685162",
     "exception": false,
     "start_time": "2023-04-27T05:32:33.545578",
     "status": "completed"
    },
    "tags": []
   },
   "outputs": [],
   "source": [
    "y_test = y_test.reset_index(drop = True).values # Reset index `y_test` supaya dari 0 lagi sebelum dikonversi ke dalam array"
   ]
  },
  {
   "cell_type": "code",
   "execution_count": 25,
   "id": "b5a13f78",
   "metadata": {
    "execution": {
     "iopub.execute_input": "2023-04-27T05:32:33.944557Z",
     "iopub.status.busy": "2023-04-27T05:32:33.943881Z",
     "iopub.status.idle": "2023-04-27T05:32:33.948984Z",
     "shell.execute_reply": "2023-04-27T05:32:33.947701Z"
    },
    "papermill": {
     "duration": 0.135693,
     "end_time": "2023-04-27T05:32:33.951199",
     "exception": false,
     "start_time": "2023-04-27T05:32:33.815506",
     "status": "completed"
    },
    "tags": []
   },
   "outputs": [],
   "source": [
    "# model.save('model.h5')"
   ]
  },
  {
   "cell_type": "code",
   "execution_count": 26,
   "id": "cb08d325",
   "metadata": {
    "execution": {
     "iopub.execute_input": "2023-04-27T05:32:34.208634Z",
     "iopub.status.busy": "2023-04-27T05:32:34.207506Z",
     "iopub.status.idle": "2023-04-27T05:32:34.213526Z",
     "shell.execute_reply": "2023-04-27T05:32:34.212578Z"
    },
    "papermill": {
     "duration": 0.136905,
     "end_time": "2023-04-27T05:32:34.215656",
     "exception": false,
     "start_time": "2023-04-27T05:32:34.078751",
     "status": "completed"
    },
    "tags": []
   },
   "outputs": [],
   "source": [
    "### Belum selesai\n",
    "# from keras.models import load_model\n",
    "\n",
    "# model = load_model('model.h5')\n",
    "\n",
    "# # Take user input from the command line\n",
    "# text = input(\"Enter your text: \")\n",
    "\n",
    "# # Tokenize and preprocess the text (use the same preprocessing steps as in training)\n",
    "# preprocessed_text = preprocess(text)\n",
    "\n",
    "# # Convert preprocessed text to a numpy array\n",
    "# X = np.array([preprocessed_text])\n",
    "\n",
    "# # Make predictions using your trained model\n",
    "# y_pred_prob = model.predict(X)\n",
    "# y_pred = np.argmax(y_pred_prob, axis=1)\n",
    "\n",
    "# # Print the predicted label (0 or 1)\n",
    "# print(\"Predicted label: {}\".format(y_pred[0]))"
   ]
  },
  {
   "cell_type": "code",
   "execution_count": 27,
   "id": "5f66107c",
   "metadata": {
    "execution": {
     "iopub.execute_input": "2023-04-27T05:32:34.470002Z",
     "iopub.status.busy": "2023-04-27T05:32:34.469088Z",
     "iopub.status.idle": "2023-04-27T05:32:34.513047Z",
     "shell.execute_reply": "2023-04-27T05:32:34.512055Z"
    },
    "papermill": {
     "duration": 0.17409,
     "end_time": "2023-04-27T05:32:34.515270",
     "exception": false,
     "start_time": "2023-04-27T05:32:34.341180",
     "status": "completed"
    },
    "tags": []
   },
   "outputs": [
    {
     "name": "stdout",
     "output_type": "stream",
     "text": [
      "True label: 0, Predicted label: [0]\n",
      "True label: 1, Predicted label: [1]\n",
      "True label: 1, Predicted label: [1]\n",
      "True label: 0, Predicted label: [1]\n",
      "True label: 0, Predicted label: [0]\n",
      "True label: 0, Predicted label: [0]\n",
      "True label: 1, Predicted label: [0]\n",
      "True label: 1, Predicted label: [1]\n",
      "True label: 1, Predicted label: [1]\n",
      "True label: 1, Predicted label: [1]\n",
      "True label: 0, Predicted label: [0]\n",
      "True label: 1, Predicted label: [1]\n",
      "True label: 1, Predicted label: [1]\n",
      "True label: 1, Predicted label: [1]\n",
      "True label: 1, Predicted label: [1]\n",
      "True label: 0, Predicted label: [0]\n",
      "True label: 0, Predicted label: [0]\n",
      "True label: 0, Predicted label: [0]\n",
      "True label: 1, Predicted label: [1]\n",
      "True label: 1, Predicted label: [1]\n",
      "True label: 0, Predicted label: [0]\n",
      "True label: 0, Predicted label: [0]\n",
      "True label: 1, Predicted label: [1]\n",
      "True label: 0, Predicted label: [0]\n",
      "True label: 1, Predicted label: [1]\n",
      "True label: 1, Predicted label: [1]\n",
      "True label: 0, Predicted label: [0]\n",
      "True label: 1, Predicted label: [1]\n",
      "True label: 0, Predicted label: [0]\n",
      "True label: 1, Predicted label: [1]\n",
      "True label: 1, Predicted label: [1]\n",
      "True label: 0, Predicted label: [0]\n",
      "True label: 0, Predicted label: [0]\n",
      "True label: 0, Predicted label: [0]\n",
      "True label: 1, Predicted label: [1]\n",
      "True label: 1, Predicted label: [1]\n",
      "True label: 0, Predicted label: [0]\n",
      "True label: 1, Predicted label: [1]\n",
      "True label: 0, Predicted label: [0]\n",
      "True label: 0, Predicted label: [0]\n",
      "True label: 1, Predicted label: [1]\n",
      "True label: 0, Predicted label: [0]\n",
      "True label: 0, Predicted label: [0]\n",
      "True label: 1, Predicted label: [0]\n",
      "True label: 0, Predicted label: [0]\n",
      "True label: 0, Predicted label: [1]\n",
      "True label: 1, Predicted label: [1]\n",
      "True label: 1, Predicted label: [1]\n",
      "True label: 0, Predicted label: [0]\n",
      "True label: 0, Predicted label: [0]\n",
      "True label: 0, Predicted label: [0]\n",
      "True label: 1, Predicted label: [1]\n",
      "True label: 1, Predicted label: [1]\n",
      "True label: 1, Predicted label: [1]\n",
      "True label: 0, Predicted label: [0]\n",
      "True label: 1, Predicted label: [1]\n",
      "True label: 1, Predicted label: [1]\n",
      "True label: 0, Predicted label: [0]\n",
      "True label: 0, Predicted label: [0]\n",
      "True label: 0, Predicted label: [0]\n",
      "True label: 0, Predicted label: [0]\n",
      "True label: 0, Predicted label: [0]\n",
      "True label: 1, Predicted label: [1]\n",
      "True label: 0, Predicted label: [0]\n",
      "True label: 0, Predicted label: [0]\n",
      "True label: 1, Predicted label: [1]\n",
      "True label: 0, Predicted label: [0]\n",
      "True label: 1, Predicted label: [1]\n",
      "True label: 1, Predicted label: [1]\n",
      "True label: 1, Predicted label: [1]\n",
      "True label: 1, Predicted label: [1]\n",
      "True label: 1, Predicted label: [1]\n",
      "True label: 1, Predicted label: [1]\n",
      "True label: 1, Predicted label: [1]\n",
      "True label: 1, Predicted label: [1]\n",
      "True label: 0, Predicted label: [0]\n",
      "True label: 1, Predicted label: [1]\n",
      "True label: 0, Predicted label: [0]\n",
      "True label: 1, Predicted label: [1]\n",
      "True label: 1, Predicted label: [0]\n",
      "True label: 0, Predicted label: [0]\n",
      "True label: 1, Predicted label: [1]\n",
      "True label: 0, Predicted label: [0]\n",
      "True label: 0, Predicted label: [0]\n",
      "True label: 0, Predicted label: [0]\n",
      "True label: 1, Predicted label: [1]\n",
      "True label: 0, Predicted label: [1]\n",
      "True label: 1, Predicted label: [1]\n",
      "True label: 0, Predicted label: [0]\n",
      "True label: 0, Predicted label: [0]\n",
      "True label: 0, Predicted label: [0]\n",
      "True label: 0, Predicted label: [0]\n",
      "True label: 0, Predicted label: [0]\n",
      "True label: 0, Predicted label: [0]\n",
      "True label: 1, Predicted label: [1]\n",
      "True label: 0, Predicted label: [0]\n",
      "True label: 0, Predicted label: [0]\n",
      "True label: 1, Predicted label: [1]\n",
      "True label: 1, Predicted label: [1]\n",
      "True label: 0, Predicted label: [0]\n",
      "True label: 1, Predicted label: [1]\n",
      "True label: 0, Predicted label: [0]\n",
      "True label: 0, Predicted label: [0]\n",
      "True label: 1, Predicted label: [1]\n",
      "True label: 0, Predicted label: [0]\n",
      "True label: 0, Predicted label: [0]\n",
      "True label: 1, Predicted label: [1]\n",
      "True label: 0, Predicted label: [0]\n",
      "True label: 0, Predicted label: [1]\n",
      "True label: 0, Predicted label: [0]\n",
      "True label: 0, Predicted label: [0]\n",
      "True label: 0, Predicted label: [0]\n",
      "True label: 0, Predicted label: [0]\n",
      "True label: 0, Predicted label: [0]\n",
      "True label: 0, Predicted label: [0]\n",
      "True label: 1, Predicted label: [1]\n",
      "True label: 1, Predicted label: [1]\n",
      "True label: 1, Predicted label: [1]\n",
      "True label: 0, Predicted label: [0]\n",
      "True label: 0, Predicted label: [0]\n",
      "True label: 1, Predicted label: [1]\n",
      "True label: 0, Predicted label: [0]\n",
      "True label: 1, Predicted label: [1]\n",
      "True label: 1, Predicted label: [1]\n",
      "True label: 0, Predicted label: [0]\n",
      "True label: 0, Predicted label: [0]\n",
      "True label: 1, Predicted label: [1]\n",
      "True label: 1, Predicted label: [1]\n",
      "True label: 1, Predicted label: [1]\n",
      "True label: 0, Predicted label: [0]\n",
      "True label: 1, Predicted label: [1]\n",
      "True label: 1, Predicted label: [1]\n",
      "True label: 1, Predicted label: [1]\n",
      "True label: 0, Predicted label: [0]\n",
      "True label: 1, Predicted label: [1]\n",
      "True label: 0, Predicted label: [0]\n",
      "True label: 0, Predicted label: [0]\n",
      "True label: 1, Predicted label: [0]\n",
      "True label: 0, Predicted label: [0]\n",
      "True label: 0, Predicted label: [0]\n",
      "True label: 1, Predicted label: [1]\n",
      "True label: 1, Predicted label: [1]\n",
      "True label: 0, Predicted label: [0]\n",
      "True label: 0, Predicted label: [0]\n",
      "True label: 0, Predicted label: [0]\n",
      "True label: 0, Predicted label: [1]\n",
      "True label: 0, Predicted label: [1]\n",
      "True label: 1, Predicted label: [1]\n",
      "True label: 1, Predicted label: [1]\n",
      "True label: 1, Predicted label: [1]\n",
      "True label: 0, Predicted label: [0]\n",
      "True label: 0, Predicted label: [0]\n",
      "True label: 0, Predicted label: [0]\n",
      "True label: 0, Predicted label: [0]\n",
      "True label: 0, Predicted label: [0]\n",
      "True label: 0, Predicted label: [0]\n",
      "True label: 0, Predicted label: [0]\n",
      "True label: 1, Predicted label: [1]\n",
      "True label: 1, Predicted label: [1]\n",
      "True label: 1, Predicted label: [1]\n",
      "True label: 0, Predicted label: [0]\n",
      "True label: 1, Predicted label: [1]\n",
      "True label: 1, Predicted label: [1]\n",
      "True label: 0, Predicted label: [0]\n",
      "True label: 1, Predicted label: [1]\n",
      "True label: 0, Predicted label: [0]\n",
      "True label: 0, Predicted label: [0]\n",
      "True label: 0, Predicted label: [0]\n",
      "True label: 0, Predicted label: [0]\n",
      "True label: 0, Predicted label: [0]\n",
      "True label: 1, Predicted label: [1]\n",
      "True label: 0, Predicted label: [0]\n",
      "True label: 1, Predicted label: [1]\n",
      "True label: 0, Predicted label: [0]\n",
      "True label: 1, Predicted label: [1]\n",
      "True label: 0, Predicted label: [0]\n",
      "True label: 0, Predicted label: [0]\n",
      "True label: 1, Predicted label: [0]\n",
      "True label: 0, Predicted label: [0]\n",
      "True label: 0, Predicted label: [0]\n",
      "True label: 1, Predicted label: [1]\n",
      "True label: 0, Predicted label: [0]\n",
      "True label: 0, Predicted label: [0]\n",
      "True label: 0, Predicted label: [0]\n",
      "True label: 0, Predicted label: [0]\n",
      "True label: 0, Predicted label: [0]\n",
      "True label: 1, Predicted label: [1]\n",
      "True label: 1, Predicted label: [1]\n",
      "True label: 1, Predicted label: [1]\n",
      "True label: 1, Predicted label: [1]\n",
      "True label: 1, Predicted label: [1]\n",
      "True label: 1, Predicted label: [1]\n",
      "True label: 1, Predicted label: [1]\n",
      "True label: 1, Predicted label: [1]\n",
      "True label: 0, Predicted label: [0]\n",
      "True label: 0, Predicted label: [0]\n",
      "True label: 1, Predicted label: [1]\n",
      "True label: 0, Predicted label: [0]\n",
      "True label: 1, Predicted label: [1]\n",
      "True label: 1, Predicted label: [1]\n",
      "True label: 0, Predicted label: [0]\n",
      "True label: 0, Predicted label: [0]\n",
      "True label: 0, Predicted label: [0]\n",
      "True label: 1, Predicted label: [1]\n",
      "True label: 1, Predicted label: [1]\n",
      "True label: 1, Predicted label: [1]\n",
      "True label: 0, Predicted label: [0]\n",
      "True label: 1, Predicted label: [1]\n",
      "True label: 0, Predicted label: [0]\n",
      "True label: 1, Predicted label: [1]\n",
      "True label: 1, Predicted label: [1]\n",
      "True label: 1, Predicted label: [1]\n",
      "True label: 1, Predicted label: [1]\n",
      "True label: 1, Predicted label: [1]\n",
      "True label: 1, Predicted label: [1]\n",
      "True label: 1, Predicted label: [1]\n",
      "True label: 0, Predicted label: [0]\n",
      "True label: 0, Predicted label: [0]\n",
      "True label: 0, Predicted label: [0]\n",
      "True label: 1, Predicted label: [1]\n",
      "True label: 0, Predicted label: [0]\n",
      "True label: 0, Predicted label: [0]\n",
      "True label: 1, Predicted label: [1]\n",
      "True label: 0, Predicted label: [0]\n",
      "True label: 1, Predicted label: [1]\n",
      "True label: 0, Predicted label: [0]\n",
      "True label: 0, Predicted label: [0]\n",
      "True label: 1, Predicted label: [1]\n",
      "True label: 1, Predicted label: [1]\n",
      "True label: 0, Predicted label: [0]\n",
      "True label: 1, Predicted label: [1]\n",
      "True label: 0, Predicted label: [0]\n",
      "True label: 1, Predicted label: [1]\n",
      "True label: 0, Predicted label: [0]\n",
      "True label: 1, Predicted label: [1]\n",
      "True label: 1, Predicted label: [1]\n",
      "True label: 0, Predicted label: [0]\n",
      "True label: 1, Predicted label: [1]\n",
      "True label: 0, Predicted label: [0]\n",
      "True label: 0, Predicted label: [0]\n",
      "True label: 0, Predicted label: [0]\n",
      "True label: 0, Predicted label: [0]\n",
      "True label: 1, Predicted label: [1]\n",
      "True label: 0, Predicted label: [0]\n",
      "True label: 1, Predicted label: [1]\n",
      "True label: 0, Predicted label: [0]\n",
      "True label: 0, Predicted label: [0]\n",
      "True label: 1, Predicted label: [1]\n",
      "True label: 1, Predicted label: [1]\n",
      "True label: 0, Predicted label: [0]\n",
      "True label: 1, Predicted label: [1]\n",
      "True label: 0, Predicted label: [0]\n",
      "True label: 1, Predicted label: [1]\n",
      "True label: 1, Predicted label: [1]\n",
      "True label: 0, Predicted label: [0]\n",
      "True label: 0, Predicted label: [1]\n",
      "True label: 0, Predicted label: [0]\n",
      "True label: 1, Predicted label: [1]\n",
      "True label: 1, Predicted label: [1]\n",
      "True label: 0, Predicted label: [0]\n",
      "True label: 1, Predicted label: [1]\n",
      "True label: 0, Predicted label: [0]\n",
      "True label: 1, Predicted label: [1]\n",
      "True label: 1, Predicted label: [1]\n",
      "True label: 1, Predicted label: [1]\n",
      "True label: 0, Predicted label: [0]\n",
      "True label: 0, Predicted label: [1]\n",
      "True label: 1, Predicted label: [1]\n",
      "True label: 1, Predicted label: [1]\n",
      "True label: 1, Predicted label: [1]\n",
      "True label: 1, Predicted label: [1]\n",
      "True label: 0, Predicted label: [0]\n",
      "True label: 1, Predicted label: [1]\n",
      "True label: 1, Predicted label: [1]\n",
      "True label: 1, Predicted label: [1]\n",
      "True label: 1, Predicted label: [1]\n",
      "True label: 0, Predicted label: [0]\n",
      "True label: 1, Predicted label: [1]\n",
      "True label: 1, Predicted label: [1]\n",
      "True label: 0, Predicted label: [0]\n",
      "True label: 0, Predicted label: [0]\n",
      "True label: 1, Predicted label: [1]\n",
      "True label: 0, Predicted label: [0]\n",
      "True label: 1, Predicted label: [1]\n",
      "True label: 0, Predicted label: [0]\n",
      "True label: 0, Predicted label: [0]\n",
      "True label: 1, Predicted label: [1]\n",
      "True label: 1, Predicted label: [1]\n",
      "True label: 1, Predicted label: [1]\n",
      "True label: 0, Predicted label: [0]\n",
      "True label: 1, Predicted label: [1]\n",
      "True label: 0, Predicted label: [0]\n",
      "True label: 0, Predicted label: [0]\n",
      "True label: 0, Predicted label: [1]\n",
      "True label: 1, Predicted label: [1]\n",
      "True label: 0, Predicted label: [0]\n",
      "True label: 0, Predicted label: [0]\n",
      "True label: 0, Predicted label: [0]\n",
      "True label: 1, Predicted label: [1]\n",
      "True label: 1, Predicted label: [1]\n",
      "True label: 1, Predicted label: [1]\n",
      "True label: 1, Predicted label: [1]\n",
      "True label: 1, Predicted label: [1]\n",
      "True label: 1, Predicted label: [0]\n",
      "True label: 0, Predicted label: [0]\n",
      "True label: 0, Predicted label: [0]\n",
      "True label: 1, Predicted label: [1]\n",
      "True label: 0, Predicted label: [0]\n",
      "True label: 1, Predicted label: [1]\n",
      "True label: 1, Predicted label: [1]\n",
      "True label: 1, Predicted label: [1]\n",
      "True label: 0, Predicted label: [0]\n",
      "True label: 1, Predicted label: [1]\n",
      "True label: 1, Predicted label: [1]\n",
      "True label: 1, Predicted label: [1]\n",
      "True label: 0, Predicted label: [0]\n",
      "True label: 1, Predicted label: [1]\n",
      "True label: 1, Predicted label: [1]\n",
      "True label: 0, Predicted label: [0]\n",
      "True label: 0, Predicted label: [0]\n",
      "True label: 1, Predicted label: [1]\n",
      "True label: 1, Predicted label: [1]\n",
      "True label: 1, Predicted label: [1]\n",
      "True label: 0, Predicted label: [0]\n",
      "True label: 1, Predicted label: [1]\n",
      "True label: 0, Predicted label: [0]\n",
      "True label: 0, Predicted label: [0]\n",
      "True label: 0, Predicted label: [1]\n",
      "True label: 0, Predicted label: [0]\n",
      "True label: 0, Predicted label: [0]\n",
      "True label: 1, Predicted label: [1]\n",
      "True label: 1, Predicted label: [1]\n",
      "True label: 1, Predicted label: [1]\n",
      "True label: 1, Predicted label: [1]\n",
      "True label: 1, Predicted label: [1]\n",
      "True label: 1, Predicted label: [1]\n",
      "True label: 1, Predicted label: [1]\n",
      "True label: 1, Predicted label: [1]\n",
      "True label: 1, Predicted label: [1]\n",
      "True label: 0, Predicted label: [0]\n",
      "True label: 1, Predicted label: [1]\n",
      "True label: 0, Predicted label: [0]\n",
      "True label: 1, Predicted label: [1]\n",
      "True label: 1, Predicted label: [1]\n",
      "True label: 1, Predicted label: [1]\n",
      "True label: 0, Predicted label: [0]\n",
      "True label: 0, Predicted label: [0]\n",
      "True label: 0, Predicted label: [0]\n",
      "True label: 0, Predicted label: [0]\n",
      "True label: 1, Predicted label: [1]\n",
      "True label: 1, Predicted label: [1]\n",
      "True label: 1, Predicted label: [1]\n",
      "True label: 1, Predicted label: [1]\n",
      "True label: 1, Predicted label: [0]\n",
      "True label: 0, Predicted label: [0]\n",
      "True label: 1, Predicted label: [1]\n",
      "True label: 1, Predicted label: [1]\n",
      "True label: 0, Predicted label: [0]\n",
      "True label: 0, Predicted label: [0]\n",
      "True label: 1, Predicted label: [1]\n",
      "True label: 0, Predicted label: [1]\n",
      "True label: 1, Predicted label: [1]\n",
      "True label: 0, Predicted label: [0]\n",
      "True label: 1, Predicted label: [1]\n",
      "True label: 0, Predicted label: [0]\n",
      "True label: 0, Predicted label: [0]\n",
      "True label: 1, Predicted label: [1]\n",
      "True label: 0, Predicted label: [0]\n",
      "True label: 1, Predicted label: [1]\n",
      "True label: 1, Predicted label: [1]\n",
      "True label: 0, Predicted label: [0]\n",
      "True label: 1, Predicted label: [0]\n",
      "True label: 1, Predicted label: [1]\n",
      "True label: 0, Predicted label: [0]\n",
      "True label: 0, Predicted label: [0]\n",
      "True label: 0, Predicted label: [1]\n",
      "True label: 0, Predicted label: [0]\n",
      "True label: 1, Predicted label: [1]\n",
      "True label: 0, Predicted label: [0]\n",
      "True label: 0, Predicted label: [0]\n",
      "True label: 0, Predicted label: [0]\n",
      "True label: 0, Predicted label: [0]\n",
      "True label: 0, Predicted label: [0]\n",
      "True label: 1, Predicted label: [1]\n",
      "True label: 0, Predicted label: [0]\n",
      "True label: 1, Predicted label: [1]\n",
      "True label: 1, Predicted label: [1]\n",
      "True label: 1, Predicted label: [1]\n",
      "True label: 0, Predicted label: [0]\n",
      "True label: 1, Predicted label: [1]\n",
      "True label: 1, Predicted label: [1]\n",
      "True label: 0, Predicted label: [0]\n",
      "True label: 0, Predicted label: [0]\n",
      "True label: 1, Predicted label: [1]\n",
      "True label: 1, Predicted label: [1]\n",
      "True label: 0, Predicted label: [0]\n",
      "True label: 0, Predicted label: [0]\n",
      "True label: 0, Predicted label: [0]\n",
      "True label: 1, Predicted label: [1]\n",
      "True label: 1, Predicted label: [1]\n",
      "True label: 0, Predicted label: [0]\n",
      "True label: 1, Predicted label: [0]\n",
      "True label: 0, Predicted label: [0]\n",
      "True label: 0, Predicted label: [0]\n",
      "True label: 1, Predicted label: [1]\n",
      "True label: 1, Predicted label: [1]\n",
      "True label: 0, Predicted label: [0]\n",
      "True label: 0, Predicted label: [0]\n",
      "True label: 0, Predicted label: [0]\n",
      "True label: 0, Predicted label: [0]\n",
      "True label: 0, Predicted label: [0]\n",
      "True label: 0, Predicted label: [0]\n",
      "True label: 0, Predicted label: [0]\n",
      "True label: 1, Predicted label: [1]\n",
      "True label: 1, Predicted label: [1]\n",
      "True label: 1, Predicted label: [1]\n",
      "True label: 0, Predicted label: [0]\n",
      "True label: 0, Predicted label: [0]\n",
      "True label: 0, Predicted label: [0]\n",
      "True label: 0, Predicted label: [0]\n",
      "True label: 0, Predicted label: [0]\n",
      "True label: 0, Predicted label: [0]\n",
      "True label: 1, Predicted label: [1]\n",
      "True label: 0, Predicted label: [0]\n",
      "True label: 1, Predicted label: [1]\n",
      "True label: 0, Predicted label: [0]\n",
      "True label: 0, Predicted label: [0]\n",
      "True label: 1, Predicted label: [1]\n",
      "True label: 1, Predicted label: [1]\n",
      "True label: 0, Predicted label: [0]\n",
      "True label: 1, Predicted label: [1]\n",
      "True label: 0, Predicted label: [0]\n",
      "True label: 1, Predicted label: [1]\n",
      "True label: 0, Predicted label: [1]\n",
      "True label: 1, Predicted label: [1]\n",
      "True label: 1, Predicted label: [1]\n",
      "True label: 0, Predicted label: [0]\n",
      "True label: 0, Predicted label: [0]\n",
      "True label: 0, Predicted label: [0]\n",
      "True label: 0, Predicted label: [1]\n",
      "True label: 0, Predicted label: [0]\n",
      "True label: 0, Predicted label: [0]\n",
      "True label: 0, Predicted label: [0]\n",
      "True label: 0, Predicted label: [0]\n",
      "True label: 1, Predicted label: [1]\n",
      "True label: 0, Predicted label: [0]\n",
      "True label: 1, Predicted label: [1]\n",
      "True label: 1, Predicted label: [1]\n",
      "True label: 1, Predicted label: [1]\n",
      "True label: 0, Predicted label: [0]\n",
      "True label: 0, Predicted label: [0]\n",
      "True label: 1, Predicted label: [0]\n",
      "True label: 1, Predicted label: [1]\n",
      "True label: 1, Predicted label: [1]\n",
      "True label: 0, Predicted label: [0]\n",
      "True label: 1, Predicted label: [1]\n",
      "True label: 0, Predicted label: [0]\n",
      "True label: 0, Predicted label: [1]\n",
      "True label: 0, Predicted label: [0]\n",
      "True label: 0, Predicted label: [0]\n",
      "True label: 0, Predicted label: [0]\n",
      "True label: 1, Predicted label: [1]\n",
      "True label: 0, Predicted label: [0]\n",
      "True label: 0, Predicted label: [0]\n",
      "True label: 1, Predicted label: [1]\n",
      "True label: 1, Predicted label: [1]\n",
      "True label: 1, Predicted label: [1]\n",
      "True label: 1, Predicted label: [1]\n",
      "True label: 1, Predicted label: [1]\n",
      "True label: 0, Predicted label: [1]\n",
      "True label: 0, Predicted label: [0]\n",
      "True label: 1, Predicted label: [1]\n",
      "True label: 0, Predicted label: [0]\n",
      "True label: 1, Predicted label: [1]\n",
      "True label: 0, Predicted label: [0]\n",
      "True label: 1, Predicted label: [1]\n",
      "True label: 0, Predicted label: [0]\n",
      "True label: 0, Predicted label: [0]\n",
      "True label: 1, Predicted label: [1]\n",
      "True label: 0, Predicted label: [0]\n",
      "True label: 1, Predicted label: [1]\n",
      "True label: 1, Predicted label: [1]\n",
      "True label: 0, Predicted label: [0]\n",
      "True label: 1, Predicted label: [1]\n",
      "True label: 1, Predicted label: [1]\n",
      "True label: 0, Predicted label: [0]\n",
      "True label: 1, Predicted label: [1]\n",
      "True label: 0, Predicted label: [0]\n",
      "True label: 0, Predicted label: [0]\n",
      "True label: 1, Predicted label: [1]\n",
      "True label: 1, Predicted label: [1]\n",
      "True label: 0, Predicted label: [0]\n",
      "True label: 0, Predicted label: [0]\n",
      "True label: 1, Predicted label: [1]\n",
      "True label: 1, Predicted label: [1]\n",
      "True label: 1, Predicted label: [1]\n",
      "True label: 1, Predicted label: [1]\n",
      "True label: 1, Predicted label: [1]\n",
      "True label: 1, Predicted label: [1]\n",
      "True label: 1, Predicted label: [1]\n",
      "True label: 1, Predicted label: [1]\n",
      "True label: 1, Predicted label: [1]\n",
      "True label: 0, Predicted label: [0]\n",
      "True label: 1, Predicted label: [1]\n",
      "True label: 1, Predicted label: [1]\n",
      "True label: 1, Predicted label: [1]\n",
      "True label: 1, Predicted label: [1]\n",
      "True label: 1, Predicted label: [1]\n",
      "True label: 0, Predicted label: [0]\n",
      "True label: 0, Predicted label: [0]\n",
      "True label: 1, Predicted label: [1]\n",
      "True label: 0, Predicted label: [0]\n",
      "True label: 1, Predicted label: [1]\n",
      "True label: 0, Predicted label: [0]\n",
      "True label: 0, Predicted label: [0]\n",
      "True label: 0, Predicted label: [0]\n",
      "True label: 0, Predicted label: [0]\n",
      "True label: 1, Predicted label: [1]\n",
      "True label: 0, Predicted label: [0]\n",
      "True label: 0, Predicted label: [0]\n",
      "True label: 0, Predicted label: [0]\n",
      "True label: 0, Predicted label: [0]\n",
      "True label: 1, Predicted label: [1]\n",
      "True label: 0, Predicted label: [1]\n",
      "True label: 1, Predicted label: [1]\n",
      "True label: 1, Predicted label: [1]\n",
      "True label: 1, Predicted label: [1]\n",
      "True label: 1, Predicted label: [1]\n",
      "True label: 0, Predicted label: [0]\n",
      "True label: 1, Predicted label: [1]\n",
      "True label: 1, Predicted label: [1]\n",
      "True label: 1, Predicted label: [1]\n",
      "True label: 0, Predicted label: [0]\n",
      "True label: 1, Predicted label: [1]\n",
      "True label: 0, Predicted label: [0]\n",
      "True label: 1, Predicted label: [1]\n",
      "True label: 1, Predicted label: [1]\n",
      "True label: 1, Predicted label: [1]\n",
      "True label: 1, Predicted label: [1]\n",
      "True label: 1, Predicted label: [1]\n",
      "True label: 0, Predicted label: [0]\n",
      "True label: 0, Predicted label: [0]\n",
      "True label: 1, Predicted label: [1]\n",
      "True label: 1, Predicted label: [1]\n",
      "True label: 1, Predicted label: [1]\n",
      "True label: 0, Predicted label: [0]\n",
      "True label: 1, Predicted label: [1]\n",
      "True label: 1, Predicted label: [1]\n",
      "True label: 0, Predicted label: [0]\n",
      "True label: 0, Predicted label: [0]\n",
      "True label: 0, Predicted label: [0]\n",
      "True label: 1, Predicted label: [0]\n",
      "True label: 1, Predicted label: [1]\n",
      "True label: 1, Predicted label: [1]\n",
      "True label: 1, Predicted label: [1]\n",
      "True label: 0, Predicted label: [0]\n",
      "True label: 0, Predicted label: [0]\n",
      "True label: 0, Predicted label: [0]\n",
      "True label: 1, Predicted label: [1]\n",
      "True label: 1, Predicted label: [1]\n",
      "True label: 1, Predicted label: [1]\n",
      "True label: 0, Predicted label: [0]\n",
      "True label: 0, Predicted label: [0]\n",
      "True label: 1, Predicted label: [1]\n",
      "True label: 1, Predicted label: [1]\n",
      "True label: 1, Predicted label: [1]\n",
      "True label: 1, Predicted label: [1]\n",
      "True label: 0, Predicted label: [0]\n",
      "True label: 0, Predicted label: [1]\n",
      "True label: 1, Predicted label: [1]\n",
      "True label: 0, Predicted label: [0]\n",
      "True label: 0, Predicted label: [0]\n",
      "True label: 0, Predicted label: [0]\n",
      "True label: 0, Predicted label: [0]\n",
      "True label: 1, Predicted label: [1]\n",
      "True label: 1, Predicted label: [0]\n",
      "True label: 1, Predicted label: [1]\n",
      "True label: 0, Predicted label: [0]\n",
      "True label: 0, Predicted label: [0]\n",
      "True label: 0, Predicted label: [0]\n",
      "True label: 1, Predicted label: [1]\n",
      "True label: 0, Predicted label: [0]\n",
      "True label: 0, Predicted label: [0]\n",
      "True label: 0, Predicted label: [0]\n",
      "True label: 0, Predicted label: [0]\n",
      "True label: 1, Predicted label: [1]\n",
      "True label: 0, Predicted label: [0]\n",
      "True label: 0, Predicted label: [0]\n",
      "True label: 0, Predicted label: [1]\n",
      "True label: 0, Predicted label: [0]\n",
      "True label: 1, Predicted label: [1]\n",
      "True label: 1, Predicted label: [1]\n",
      "True label: 0, Predicted label: [0]\n",
      "True label: 1, Predicted label: [1]\n",
      "True label: 1, Predicted label: [1]\n",
      "True label: 1, Predicted label: [1]\n",
      "True label: 1, Predicted label: [1]\n",
      "True label: 0, Predicted label: [0]\n",
      "True label: 1, Predicted label: [1]\n",
      "True label: 0, Predicted label: [0]\n",
      "True label: 0, Predicted label: [1]\n",
      "True label: 0, Predicted label: [0]\n",
      "True label: 1, Predicted label: [1]\n",
      "True label: 1, Predicted label: [1]\n",
      "True label: 0, Predicted label: [0]\n",
      "True label: 0, Predicted label: [0]\n",
      "True label: 0, Predicted label: [0]\n",
      "True label: 1, Predicted label: [1]\n",
      "True label: 1, Predicted label: [1]\n",
      "True label: 1, Predicted label: [1]\n",
      "True label: 0, Predicted label: [0]\n",
      "True label: 1, Predicted label: [1]\n",
      "True label: 1, Predicted label: [1]\n",
      "True label: 0, Predicted label: [0]\n",
      "True label: 1, Predicted label: [1]\n",
      "True label: 0, Predicted label: [1]\n",
      "True label: 1, Predicted label: [1]\n",
      "True label: 0, Predicted label: [0]\n",
      "True label: 1, Predicted label: [1]\n",
      "True label: 1, Predicted label: [1]\n",
      "True label: 0, Predicted label: [0]\n",
      "True label: 0, Predicted label: [0]\n",
      "True label: 0, Predicted label: [0]\n",
      "True label: 0, Predicted label: [0]\n",
      "True label: 1, Predicted label: [1]\n",
      "True label: 0, Predicted label: [0]\n",
      "True label: 0, Predicted label: [0]\n",
      "True label: 0, Predicted label: [0]\n",
      "True label: 0, Predicted label: [0]\n",
      "True label: 1, Predicted label: [1]\n",
      "True label: 0, Predicted label: [0]\n",
      "True label: 0, Predicted label: [0]\n",
      "True label: 1, Predicted label: [1]\n",
      "True label: 0, Predicted label: [1]\n",
      "True label: 1, Predicted label: [1]\n",
      "True label: 1, Predicted label: [1]\n",
      "True label: 1, Predicted label: [1]\n",
      "True label: 0, Predicted label: [0]\n",
      "True label: 1, Predicted label: [1]\n",
      "True label: 1, Predicted label: [1]\n",
      "True label: 0, Predicted label: [0]\n",
      "True label: 0, Predicted label: [1]\n",
      "True label: 0, Predicted label: [0]\n",
      "True label: 0, Predicted label: [0]\n",
      "True label: 1, Predicted label: [1]\n",
      "True label: 0, Predicted label: [0]\n",
      "True label: 1, Predicted label: [1]\n",
      "True label: 0, Predicted label: [0]\n",
      "True label: 0, Predicted label: [0]\n",
      "True label: 0, Predicted label: [0]\n",
      "True label: 1, Predicted label: [0]\n",
      "True label: 1, Predicted label: [1]\n",
      "True label: 1, Predicted label: [1]\n",
      "True label: 0, Predicted label: [0]\n",
      "True label: 1, Predicted label: [1]\n",
      "True label: 0, Predicted label: [0]\n",
      "True label: 1, Predicted label: [1]\n",
      "True label: 0, Predicted label: [0]\n",
      "True label: 1, Predicted label: [1]\n",
      "True label: 0, Predicted label: [0]\n",
      "True label: 0, Predicted label: [0]\n",
      "True label: 0, Predicted label: [1]\n",
      "True label: 0, Predicted label: [0]\n",
      "True label: 0, Predicted label: [0]\n",
      "True label: 1, Predicted label: [1]\n",
      "True label: 1, Predicted label: [1]\n",
      "True label: 1, Predicted label: [1]\n",
      "True label: 0, Predicted label: [0]\n",
      "True label: 1, Predicted label: [1]\n",
      "True label: 1, Predicted label: [1]\n",
      "True label: 0, Predicted label: [0]\n",
      "True label: 0, Predicted label: [0]\n",
      "True label: 1, Predicted label: [1]\n",
      "True label: 0, Predicted label: [0]\n",
      "True label: 0, Predicted label: [0]\n",
      "True label: 1, Predicted label: [1]\n",
      "True label: 0, Predicted label: [0]\n",
      "True label: 1, Predicted label: [1]\n",
      "True label: 1, Predicted label: [1]\n",
      "True label: 1, Predicted label: [1]\n",
      "True label: 1, Predicted label: [1]\n",
      "True label: 0, Predicted label: [0]\n",
      "True label: 0, Predicted label: [0]\n",
      "True label: 0, Predicted label: [1]\n",
      "True label: 0, Predicted label: [0]\n",
      "True label: 0, Predicted label: [0]\n",
      "True label: 0, Predicted label: [0]\n",
      "True label: 0, Predicted label: [0]\n",
      "True label: 1, Predicted label: [1]\n",
      "True label: 1, Predicted label: [1]\n",
      "True label: 1, Predicted label: [1]\n",
      "True label: 1, Predicted label: [1]\n",
      "True label: 0, Predicted label: [0]\n",
      "True label: 1, Predicted label: [1]\n",
      "True label: 0, Predicted label: [0]\n",
      "True label: 1, Predicted label: [1]\n",
      "True label: 0, Predicted label: [0]\n",
      "True label: 0, Predicted label: [0]\n",
      "True label: 1, Predicted label: [1]\n",
      "True label: 0, Predicted label: [0]\n",
      "True label: 0, Predicted label: [0]\n",
      "True label: 1, Predicted label: [1]\n",
      "True label: 1, Predicted label: [1]\n",
      "True label: 1, Predicted label: [1]\n",
      "True label: 1, Predicted label: [1]\n",
      "True label: 1, Predicted label: [0]\n",
      "True label: 0, Predicted label: [1]\n",
      "True label: 0, Predicted label: [0]\n",
      "True label: 0, Predicted label: [0]\n",
      "True label: 0, Predicted label: [0]\n",
      "True label: 1, Predicted label: [0]\n",
      "True label: 0, Predicted label: [0]\n",
      "True label: 0, Predicted label: [0]\n",
      "True label: 0, Predicted label: [0]\n",
      "True label: 1, Predicted label: [1]\n",
      "True label: 0, Predicted label: [1]\n",
      "True label: 1, Predicted label: [1]\n",
      "True label: 1, Predicted label: [1]\n",
      "True label: 0, Predicted label: [0]\n",
      "True label: 0, Predicted label: [0]\n",
      "True label: 0, Predicted label: [0]\n",
      "True label: 0, Predicted label: [0]\n",
      "True label: 1, Predicted label: [1]\n",
      "True label: 1, Predicted label: [1]\n",
      "True label: 1, Predicted label: [1]\n",
      "True label: 0, Predicted label: [0]\n",
      "True label: 1, Predicted label: [0]\n",
      "True label: 0, Predicted label: [0]\n",
      "True label: 0, Predicted label: [0]\n",
      "True label: 1, Predicted label: [1]\n",
      "True label: 0, Predicted label: [0]\n",
      "True label: 1, Predicted label: [1]\n",
      "True label: 1, Predicted label: [0]\n",
      "True label: 0, Predicted label: [0]\n",
      "True label: 1, Predicted label: [1]\n",
      "True label: 0, Predicted label: [0]\n",
      "True label: 0, Predicted label: [0]\n",
      "True label: 1, Predicted label: [1]\n",
      "True label: 1, Predicted label: [1]\n",
      "True label: 0, Predicted label: [0]\n",
      "True label: 1, Predicted label: [1]\n",
      "True label: 1, Predicted label: [1]\n",
      "True label: 1, Predicted label: [1]\n",
      "True label: 0, Predicted label: [0]\n",
      "True label: 0, Predicted label: [0]\n",
      "True label: 0, Predicted label: [0]\n",
      "True label: 1, Predicted label: [1]\n",
      "True label: 0, Predicted label: [0]\n",
      "True label: 1, Predicted label: [1]\n",
      "True label: 1, Predicted label: [1]\n",
      "True label: 0, Predicted label: [0]\n",
      "True label: 1, Predicted label: [1]\n",
      "True label: 0, Predicted label: [0]\n",
      "True label: 0, Predicted label: [0]\n",
      "True label: 0, Predicted label: [0]\n",
      "True label: 1, Predicted label: [1]\n",
      "True label: 1, Predicted label: [1]\n",
      "True label: 0, Predicted label: [0]\n",
      "True label: 1, Predicted label: [1]\n",
      "True label: 0, Predicted label: [0]\n",
      "True label: 1, Predicted label: [1]\n",
      "True label: 0, Predicted label: [0]\n",
      "True label: 1, Predicted label: [1]\n",
      "True label: 1, Predicted label: [0]\n",
      "True label: 1, Predicted label: [1]\n",
      "True label: 0, Predicted label: [0]\n",
      "True label: 1, Predicted label: [1]\n",
      "True label: 1, Predicted label: [1]\n",
      "True label: 1, Predicted label: [0]\n",
      "True label: 0, Predicted label: [0]\n",
      "True label: 1, Predicted label: [1]\n",
      "True label: 0, Predicted label: [0]\n",
      "True label: 0, Predicted label: [0]\n",
      "True label: 1, Predicted label: [1]\n"
     ]
    }
   ],
   "source": [
    "for i in range(len(y_test)):\n",
    "    print(\"True label: {}, Predicted label: {}\".format(y_test[i], y_pred[i]))"
   ]
  }
 ],
 "metadata": {
  "kernelspec": {
   "display_name": "Python 3",
   "language": "python",
   "name": "python3"
  },
  "language_info": {
   "codemirror_mode": {
    "name": "ipython",
    "version": 3
   },
   "file_extension": ".py",
   "mimetype": "text/x-python",
   "name": "python",
   "nbconvert_exporter": "python",
   "pygments_lexer": "ipython3",
   "version": "3.7.12"
  },
  "papermill": {
   "default_parameters": {},
   "duration": 1561.561074,
   "end_time": "2023-04-27T05:32:37.675958",
   "environment_variables": {},
   "exception": null,
   "input_path": "__notebook__.ipynb",
   "output_path": "__notebook__.ipynb",
   "parameters": {},
   "start_time": "2023-04-27T05:06:36.114884",
   "version": "2.4.0"
  }
 },
 "nbformat": 4,
 "nbformat_minor": 5
}
